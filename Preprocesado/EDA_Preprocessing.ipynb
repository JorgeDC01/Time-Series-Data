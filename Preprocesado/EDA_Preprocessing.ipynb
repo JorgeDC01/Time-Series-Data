{
 "cells": [
  {
   "cell_type": "markdown",
   "metadata": {
    "id": "SQ6Uv9pCAzIA"
   },
   "source": [
    "# P.1_2. Time series preprocessing - Dataset Electric Power Consumption ⚡\n",
    "\n",
    "## Dataset\n",
    "Dataset:  [kaggle electric-power-consumption-data-set](https://www.kaggle.com/datasets/uciml/electric-power-consumption-data-set). The dataset contains measures of electic power consumption in a single household.\n",
    "\n",
    "## Objective\n",
    "The task prepare a dataframe and save it as a .csv file. The dataframe must have rows with sliding windows for all the variables and the window size is w=5min. Thus, there must be a column for the timestamp at $t$ and a column with each variable $Z^{(i)}$ where $Z^{(i)}=\\{Z^{(i)}_t, Z^{(i)}_{t-1}, Z^{(i)}_{t-2}, ..., Z^{(i)}_{t-w}\\}$ and $i$ is the identifier of the variable.\n",
    "\n",
    "Some previous techniques:\n",
    "- Plot the variables, including advanced plots\n",
    "- Perform a simple EDA\n",
    "\n",
    "Check:\n",
    "\n",
    "- Missing data\n",
    "- Magnitudes of the variables\n",
    "- Stationarity\n",
    "- Seasonality\n",
    "- Trend"
   ]
  },
  {
   "cell_type": "markdown",
   "metadata": {
    "id": "wOBW4fOZ0AJl"
   },
   "source": [
    "## 📁 Import dataset"
   ]
  },
  {
   "cell_type": "code",
   "execution_count": 1,
   "metadata": {
    "colab": {
     "base_uri": "https://localhost:8080/"
    },
    "executionInfo": {
     "elapsed": 11135,
     "status": "ok",
     "timestamp": 1742578351514,
     "user": {
      "displayName": "Jorge del Castillo Gómez",
      "userId": "03598089572284782268"
     },
     "user_tz": -60
    },
    "id": "k3EQB_120dtF",
    "outputId": "9c74013b-e489-42f6-de8a-b34112acc84a"
   },
   "outputs": [
    {
     "name": "stdout",
     "output_type": "stream",
     "text": [
      "Note: you may need to restart the kernel to use updated packages.\n"
     ]
    }
   ],
   "source": [
    "%pip install ydata_profiling --quiet"
   ]
  },
  {
   "cell_type": "code",
   "execution_count": 2,
   "metadata": {
    "colab": {
     "base_uri": "https://localhost:8080/",
     "height": 0
    },
    "executionInfo": {
     "elapsed": 3684,
     "status": "ok",
     "timestamp": 1742578500293,
     "user": {
      "displayName": "Jorge del Castillo Gómez",
      "userId": "03598089572284782268"
     },
     "user_tz": -60
    },
    "id": "pPbmSHlSAzIB",
    "outputId": "68314364-5caa-46b6-b073-f9a03fdebe27"
   },
   "outputs": [
    {
     "name": "stderr",
     "output_type": "stream",
     "text": [
      "C:\\Users\\34627\\AppData\\Local\\Temp\\ipykernel_7752\\1563367861.py:3: DtypeWarning: Columns (2,3,4,5,6,7) have mixed types. Specify dtype option on import or set low_memory=False.\n",
      "  df = pd.read_csv('household_power_consumption.txt', sep=';')\n"
     ]
    },
    {
     "data": {
      "text/html": [
       "<div>\n",
       "<style scoped>\n",
       "    .dataframe tbody tr th:only-of-type {\n",
       "        vertical-align: middle;\n",
       "    }\n",
       "\n",
       "    .dataframe tbody tr th {\n",
       "        vertical-align: top;\n",
       "    }\n",
       "\n",
       "    .dataframe thead th {\n",
       "        text-align: right;\n",
       "    }\n",
       "</style>\n",
       "<table border=\"1\" class=\"dataframe\">\n",
       "  <thead>\n",
       "    <tr style=\"text-align: right;\">\n",
       "      <th></th>\n",
       "      <th>Date</th>\n",
       "      <th>Time</th>\n",
       "      <th>Global_active_power</th>\n",
       "      <th>Global_reactive_power</th>\n",
       "      <th>Voltage</th>\n",
       "      <th>Global_intensity</th>\n",
       "      <th>Sub_metering_1</th>\n",
       "      <th>Sub_metering_2</th>\n",
       "      <th>Sub_metering_3</th>\n",
       "    </tr>\n",
       "  </thead>\n",
       "  <tbody>\n",
       "    <tr>\n",
       "      <th>0</th>\n",
       "      <td>16/12/2006</td>\n",
       "      <td>17:24:00</td>\n",
       "      <td>4.216</td>\n",
       "      <td>0.418</td>\n",
       "      <td>234.840</td>\n",
       "      <td>18.400</td>\n",
       "      <td>0.000</td>\n",
       "      <td>1.000</td>\n",
       "      <td>17.0</td>\n",
       "    </tr>\n",
       "    <tr>\n",
       "      <th>1</th>\n",
       "      <td>16/12/2006</td>\n",
       "      <td>17:25:00</td>\n",
       "      <td>5.360</td>\n",
       "      <td>0.436</td>\n",
       "      <td>233.630</td>\n",
       "      <td>23.000</td>\n",
       "      <td>0.000</td>\n",
       "      <td>1.000</td>\n",
       "      <td>16.0</td>\n",
       "    </tr>\n",
       "    <tr>\n",
       "      <th>2</th>\n",
       "      <td>16/12/2006</td>\n",
       "      <td>17:26:00</td>\n",
       "      <td>5.374</td>\n",
       "      <td>0.498</td>\n",
       "      <td>233.290</td>\n",
       "      <td>23.000</td>\n",
       "      <td>0.000</td>\n",
       "      <td>2.000</td>\n",
       "      <td>17.0</td>\n",
       "    </tr>\n",
       "    <tr>\n",
       "      <th>3</th>\n",
       "      <td>16/12/2006</td>\n",
       "      <td>17:27:00</td>\n",
       "      <td>5.388</td>\n",
       "      <td>0.502</td>\n",
       "      <td>233.740</td>\n",
       "      <td>23.000</td>\n",
       "      <td>0.000</td>\n",
       "      <td>1.000</td>\n",
       "      <td>17.0</td>\n",
       "    </tr>\n",
       "    <tr>\n",
       "      <th>4</th>\n",
       "      <td>16/12/2006</td>\n",
       "      <td>17:28:00</td>\n",
       "      <td>3.666</td>\n",
       "      <td>0.528</td>\n",
       "      <td>235.680</td>\n",
       "      <td>15.800</td>\n",
       "      <td>0.000</td>\n",
       "      <td>1.000</td>\n",
       "      <td>17.0</td>\n",
       "    </tr>\n",
       "  </tbody>\n",
       "</table>\n",
       "</div>"
      ],
      "text/plain": [
       "         Date      Time Global_active_power Global_reactive_power  Voltage  \\\n",
       "0  16/12/2006  17:24:00               4.216                 0.418  234.840   \n",
       "1  16/12/2006  17:25:00               5.360                 0.436  233.630   \n",
       "2  16/12/2006  17:26:00               5.374                 0.498  233.290   \n",
       "3  16/12/2006  17:27:00               5.388                 0.502  233.740   \n",
       "4  16/12/2006  17:28:00               3.666                 0.528  235.680   \n",
       "\n",
       "  Global_intensity Sub_metering_1 Sub_metering_2  Sub_metering_3  \n",
       "0           18.400          0.000          1.000            17.0  \n",
       "1           23.000          0.000          1.000            16.0  \n",
       "2           23.000          0.000          2.000            17.0  \n",
       "3           23.000          0.000          1.000            17.0  \n",
       "4           15.800          0.000          1.000            17.0  "
      ]
     },
     "execution_count": 2,
     "metadata": {},
     "output_type": "execute_result"
    }
   ],
   "source": [
    "import pandas as pd\n",
    "\n",
    "df = pd.read_csv('household_power_consumption.txt', sep=';')\n",
    "df.head()"
   ]
  },
  {
   "cell_type": "markdown",
   "metadata": {
    "id": "Kd72wDYMz1-1"
   },
   "source": [
    "## 🔎 EDA (Exploratory Data Analysis)"
   ]
  },
  {
   "cell_type": "code",
   "execution_count": 4,
   "metadata": {
    "colab": {
     "base_uri": "https://localhost:8080/"
    },
    "executionInfo": {
     "elapsed": 57,
     "status": "ok",
     "timestamp": 1742578504494,
     "user": {
      "displayName": "Jorge del Castillo Gómez",
      "userId": "03598089572284782268"
     },
     "user_tz": -60
    },
    "id": "-NdsULWKLeqN",
    "outputId": "ebf664a3-3210-4341-df6d-7fc47c630ffb"
   },
   "outputs": [
    {
     "name": "stdout",
     "output_type": "stream",
     "text": [
      "<class 'pandas.core.frame.DataFrame'>\n",
      "RangeIndex: 2075259 entries, 0 to 2075258\n",
      "Data columns (total 9 columns):\n",
      " #   Column                 Dtype  \n",
      "---  ------                 -----  \n",
      " 0   Date                   object \n",
      " 1   Time                   object \n",
      " 2   Global_active_power    object \n",
      " 3   Global_reactive_power  object \n",
      " 4   Voltage                object \n",
      " 5   Global_intensity       object \n",
      " 6   Sub_metering_1         object \n",
      " 7   Sub_metering_2         object \n",
      " 8   Sub_metering_3         float64\n",
      "dtypes: float64(1), object(8)\n",
      "memory usage: 142.5+ MB\n"
     ]
    }
   ],
   "source": [
    "df.info()"
   ]
  },
  {
   "cell_type": "code",
   "execution_count": 3,
   "metadata": {
    "executionInfo": {
     "elapsed": 7698,
     "status": "ok",
     "timestamp": 1742578617176,
     "user": {
      "displayName": "Jorge del Castillo Gómez",
      "userId": "03598089572284782268"
     },
     "user_tz": -60
    },
    "id": "a3YpjJq_VojP"
   },
   "outputs": [],
   "source": [
    "df['datetime'] = pd.to_datetime(df['Date'] + ' ' + df['Time'], format='%d/%m/%Y %H:%M:%S', errors='coerce')"
   ]
  },
  {
   "cell_type": "code",
   "execution_count": 46,
   "metadata": {
    "colab": {
     "base_uri": "https://localhost:8080/",
     "height": 622
    },
    "executionInfo": {
     "elapsed": 525,
     "status": "ok",
     "timestamp": 1742554990137,
     "user": {
      "displayName": "Jorge del Castillo Gómez",
      "userId": "03598089572284782268"
     },
     "user_tz": -60
    },
    "id": "cZ6_AgGVJ6H2",
    "outputId": "c73717bc-fc98-4dee-a1c3-b5bd63c3b286"
   },
   "outputs": [
    {
     "name": "stderr",
     "output_type": "stream",
     "text": [
      "<ipython-input-46-3770ba75d88f>:10: UserWarning: set_ticklabels() should only be used with a fixed number of ticks, i.e. after set_ticks() or using a FixedLocator.\n",
      "  ax.set_xticklabels(ax.get_xticklabels(), rotation=45)\n"
     ]
    },
    {
     "data": {
      "image/png": "[encoded data removed]",
      "text/plain": [
       "<Figure size 1400x600 with 1 Axes>"
      ]
     },
     "metadata": {},
     "output_type": "display_data"
    }
   ],
   "source": [
    "import pandas as pd\n",
    "import matplotlib.pyplot as plt\n",
    "\n",
    "\n",
    "df['Global_active_power'] = pd.to_numeric(df['Global_active_power'], errors='coerce')\n",
    "\n",
    "df.sort_values('datetime', inplace=True)\n",
    "\n",
    "ax = df.iloc[:1440].plot(x='datetime', y='Global_active_power', figsize=(14, 6))\n",
    "ax.set_xticklabels(ax.get_xticklabels(), rotation=45)\n",
    "\n",
    "\n",
    "plt.xlabel('Datetime')\n",
    "plt.ylabel('Global Active Power')\n",
    "plt.show()"
   ]
  },
  {
   "cell_type": "markdown",
   "metadata": {
    "id": "uevh5uhwcun3"
   },
   "source": [
    "> Time series can be examined through traditional EDA techniques, with ProfileReport"
   ]
  },
  {
   "cell_type": "code",
   "execution_count": null,
   "metadata": {
    "colab": {
     "base_uri": "https://localhost:8080/",
     "height": 267,
     "referenced_widgets": [
      "802bae589935400b9b6f6aea11e2a512",
      "1191e289a6bb4e0fa086a999c6e4288f",
      "049125d2dd8d41e58b62db809d5662fc",
      "fc2094676a974cfa91ec4f15cb4feeca",
      "c3cd9b3b951848e49931990ad3fa4131",
      "fdcfbeb6dbcb4b7f9d413135cdaa623a",
      "73ea9d7dc31746558ef58c9a0d71b7e3",
      "b23d4e16ac854975aeae692cf252e7ca",
      "549ec4ef7ec5481a822183fb507cc50b",
      "2d8261a14d244773a60ae9e623fdaee0",
      "2b826d2b822f4520bae56bf462fdab16",
      "e87b7503e8154d1984e04489254fb002",
      "0bd8815b82aa423094451c614e6e10c5",
      "a04c9971fcad43639564016eaa245a19",
      "a0c6eb2800b04240a234bc2f654d2648",
      "ab4580c9110b4bcfacfa21c9583e933b",
      "f138663be56f4bdf9082c066955653c7",
      "52f340a96e7e4e55aad8481bef22a58a",
      "ea96f734fc264f77bb558effc446048e",
      "a8dc9b4a1cd64f8785015b2e63ed58c2",
      "13194233d4e943c7be4bd768536333ce",
      "62a07c3a43c44dac8286dea25a9fec72",
      "9abf1efb0b654a7983bb3cf50dda4135",
      "d5883888c386445d8c5eb280bd225219",
      "4a890fc4d59c455cb66c2bc998ce5ff1",
      "e7fa0be3094a4c2684c562adae088804",
      "1a19dbd4bf144ce0a8f623d6f2d1c6fd",
      "e9411a3a0d6a411c8ec2c129068e55c0",
      "6f2e15e4542f466ca0c90f2ed6b4c1ec",
      "2f8ec7eaec8e462eb1c6caaf3406091e",
      "052d69e6267d4479905014ec01d922b6",
      "76072ff8299f4e1890c7c2b56a5e01bf",
      "391c2d6d1f984dcd9329bfc57941d8f1",
      "6edc08d092a34088bd44e28f2f5f0ec7",
      "4c24b7cac4f548db9da734909bbfe024",
      "f615b8e6584542fd8accb6f1bc5adf1d",
      "b73b2bd4f9944052b31354499879124d",
      "799b9dad97984b569c11a2b354081a8a",
      "4a64d6be24de479abeb97bc19e4b3c14",
      "6ab9ced09ea940ff8219c1efdea6615d",
      "8e27c56cf06a4790ab98c1c788ac98a2",
      "c2459524a9aa418687c87edffe56287e",
      "23f2e517ceac402f94bd0fa9cbd80dae",
      "3c005c2b52134e1eb1f721215a34819a"
     ]
    },
    "id": "u5GWp4r1LEkZ",
    "outputId": "19a5d093-f1ce-4d61-f463-062d084f7edc"
   },
   "outputs": [
    {
     "data": {
      "text/html": [
       "\n",
       "            <div>\n",
       "                <ins><a href=\"ttps://ydata.ai/register\">Upgrade to ydata-sdk</a></ins>\n",
       "                <p>\n",
       "                    Improve your data and profiling with ydata-sdk, featuring data quality scoring, redundancy detection, outlier identification, text validation, and synthetic data generation.\n",
       "                </p>\n",
       "            </div>\n",
       "            "
      ],
      "text/plain": [
       "<IPython.core.display.HTML object>"
      ]
     },
     "metadata": {},
     "output_type": "display_data"
    },
    {
     "data": {
      "application/vnd.jupyter.widget-view+json": {
       "model_id": "802bae589935400b9b6f6aea11e2a512",
       "version_major": 2,
       "version_minor": 0
      },
      "text/plain": [
       "Summarize dataset:   0%|          | 0/5 [00:00<?, ?it/s]"
      ]
     },
     "metadata": {},
     "output_type": "display_data"
    },
    {
     "name": "stderr",
     "output_type": "stream",
     "text": [
      "\n",
      "  0%|          | 0/10 [00:00<?, ?it/s]\u001b[A\n",
      " 10%|█         | 1/10 [00:00<00:05,  1.77it/s]\u001b[A\n",
      "100%|██████████| 10/10 [00:01<00:00,  6.71it/s]\n"
     ]
    },
    {
     "data": {
      "application/vnd.jupyter.widget-view+json": {
       "model_id": "e87b7503e8154d1984e04489254fb002",
       "version_major": 2,
       "version_minor": 0
      },
      "text/plain": [
       "Generate report structure:   0%|          | 0/1 [00:00<?, ?it/s]"
      ]
     },
     "metadata": {},
     "output_type": "display_data"
    },
    {
     "data": {
      "application/vnd.jupyter.widget-view+json": {
       "model_id": "9abf1efb0b654a7983bb3cf50dda4135",
       "version_major": 2,
       "version_minor": 0
      },
      "text/plain": [
       "Render HTML:   0%|          | 0/1 [00:00<?, ?it/s]"
      ]
     },
     "metadata": {},
     "output_type": "display_data"
    },
    {
     "data": {
      "application/vnd.jupyter.widget-view+json": {
       "model_id": "6edc08d092a34088bd44e28f2f5f0ec7",
       "version_major": 2,
       "version_minor": 0
      },
      "text/plain": [
       "Export report to file:   0%|          | 0/1 [00:00<?, ?it/s]"
      ]
     },
     "metadata": {},
     "output_type": "display_data"
    }
   ],
   "source": [
    "from ydata_profiling import ProfileReport\n",
    "\n",
    "profile = ProfileReport(df.sample(10000))\n",
    "profile.to_file(\"output.html\")"
   ]
  },
  {
   "cell_type": "code",
   "execution_count": 5,
   "metadata": {
    "colab": {
     "base_uri": "https://localhost:8080/"
    },
    "executionInfo": {
     "elapsed": 1954,
     "status": "ok",
     "timestamp": 1742578632147,
     "user": {
      "displayName": "Jorge del Castillo Gómez",
      "userId": "03598089572284782268"
     },
     "user_tz": -60
    },
    "id": "Wj9ev-XmLYXU",
    "outputId": "b21c3873-752a-4911-afc5-71846ca7646b"
   },
   "outputs": [
    {
     "name": "stdout",
     "output_type": "stream",
     "text": [
      "Date                             object\n",
      "Time                             object\n",
      "Global_active_power             float64\n",
      "Global_reactive_power           float64\n",
      "Voltage                         float64\n",
      "Global_intensity                float64\n",
      "Sub_metering_1                  float64\n",
      "Sub_metering_2                  float64\n",
      "Sub_metering_3                  float64\n",
      "datetime                 datetime64[ns]\n",
      "dtype: object\n"
     ]
    }
   ],
   "source": [
    "# Castear tipos a float\n",
    "for col in df.columns:\n",
    "    if (col != 'datetime' and col != 'Date' and col != 'Time') and df[col].dtype != 'float':\n",
    "        df[col] = pd.to_numeric(df[col], errors='coerce')\n",
    "\n",
    "print(df.dtypes)"
   ]
  },
  {
   "cell_type": "code",
   "execution_count": 37,
   "metadata": {
    "colab": {
     "base_uri": "https://localhost:8080/",
     "height": 398
    },
    "executionInfo": {
     "elapsed": 6,
     "status": "ok",
     "timestamp": 1742554904540,
     "user": {
      "displayName": "Jorge del Castillo Gómez",
      "userId": "03598089572284782268"
     },
     "user_tz": -60
    },
    "id": "S8e38PfdbPrv",
    "outputId": "ac053a36-6966-468d-d313-f2ea98cfebff"
   },
   "outputs": [
    {
     "data": {
      "text/html": [
       "<div>\n",
       "<style scoped>\n",
       "    .dataframe tbody tr th:only-of-type {\n",
       "        vertical-align: middle;\n",
       "    }\n",
       "\n",
       "    .dataframe tbody tr th {\n",
       "        vertical-align: top;\n",
       "    }\n",
       "\n",
       "    .dataframe thead th {\n",
       "        text-align: right;\n",
       "    }\n",
       "</style>\n",
       "<table border=\"1\" class=\"dataframe\">\n",
       "  <thead>\n",
       "    <tr style=\"text-align: right;\">\n",
       "      <th></th>\n",
       "      <th>0</th>\n",
       "    </tr>\n",
       "  </thead>\n",
       "  <tbody>\n",
       "    <tr>\n",
       "      <th>Date</th>\n",
       "      <td>0</td>\n",
       "    </tr>\n",
       "    <tr>\n",
       "      <th>Time</th>\n",
       "      <td>0</td>\n",
       "    </tr>\n",
       "    <tr>\n",
       "      <th>Global_active_power</th>\n",
       "      <td>25979</td>\n",
       "    </tr>\n",
       "    <tr>\n",
       "      <th>Global_reactive_power</th>\n",
       "      <td>25979</td>\n",
       "    </tr>\n",
       "    <tr>\n",
       "      <th>Voltage</th>\n",
       "      <td>25979</td>\n",
       "    </tr>\n",
       "    <tr>\n",
       "      <th>Global_intensity</th>\n",
       "      <td>25979</td>\n",
       "    </tr>\n",
       "    <tr>\n",
       "      <th>Sub_metering_1</th>\n",
       "      <td>25979</td>\n",
       "    </tr>\n",
       "    <tr>\n",
       "      <th>Sub_metering_2</th>\n",
       "      <td>25979</td>\n",
       "    </tr>\n",
       "    <tr>\n",
       "      <th>Sub_metering_3</th>\n",
       "      <td>25979</td>\n",
       "    </tr>\n",
       "    <tr>\n",
       "      <th>datetime</th>\n",
       "      <td>0</td>\n",
       "    </tr>\n",
       "  </tbody>\n",
       "</table>\n",
       "</div><br><label><b>dtype:</b> int64</label>"
      ],
      "text/plain": [
       "Date                         0\n",
       "Time                         0\n",
       "Global_active_power      25979\n",
       "Global_reactive_power    25979\n",
       "Voltage                  25979\n",
       "Global_intensity         25979\n",
       "Sub_metering_1           25979\n",
       "Sub_metering_2           25979\n",
       "Sub_metering_3           25979\n",
       "datetime                     0\n",
       "dtype: int64"
      ]
     },
     "execution_count": 37,
     "metadata": {},
     "output_type": "execute_result"
    }
   ],
   "source": [
    "# Nulos\n",
    "df.isna().sum()"
   ]
  },
  {
   "cell_type": "code",
   "execution_count": 58,
   "metadata": {
    "colab": {
     "base_uri": "https://localhost:8080/",
     "height": 607
    },
    "executionInfo": {
     "elapsed": 731,
     "status": "ok",
     "timestamp": 1742555455359,
     "user": {
      "displayName": "Jorge del Castillo Gómez",
      "userId": "03598089572284782268"
     },
     "user_tz": -60
    },
    "id": "emrSsFOdM6Z2",
    "outputId": "208dd308-4675-458f-a7b9-b13a6fb4ef24"
   },
   "outputs": [
    {
     "data": {
      "image/png": "[encoded data removed]",
      "text/plain": [
       "<Figure size 1400x600 with 1 Axes>"
      ]
     },
     "metadata": {},
     "output_type": "display_data"
    }
   ],
   "source": [
    "df[:500].plot(x='datetime', y='Global_active_power', label='Global Active Power', color='orange', ax=plt.gca(), figsize=(14,6))\n",
    "df[:500].plot(x='datetime', y='Global_reactive_power', label='Global Reactive Power', color='red', ax=plt.gca())\n",
    "\n",
    "plt.legend()\n",
    "plt.xlabel('Datetime')\n",
    "plt.ylabel('Power (kW)')\n",
    "plt.title('Consumo de Energía Activa y Reactiva')\n",
    "plt.xticks(rotation=45)\n",
    "plt.grid(True)\n",
    "plt.show()"
   ]
  },
  {
   "cell_type": "code",
   "execution_count": 60,
   "metadata": {
    "colab": {
     "base_uri": "https://localhost:8080/",
     "height": 558
    },
    "executionInfo": {
     "elapsed": 342,
     "status": "ok",
     "timestamp": 1742555573141,
     "user": {
      "displayName": "Jorge del Castillo Gómez",
      "userId": "03598089572284782268"
     },
     "user_tz": -60
    },
    "id": "ezASx2B-UzM8",
    "outputId": "08c756d0-d8df-49d2-ec30-c9c0510e1c86"
   },
   "outputs": [
    {
     "data": {
      "image/png": "[encoded data removed]",
      "text/plain": [
       "<Figure size 1400x600 with 1 Axes>"
      ]
     },
     "metadata": {},
     "output_type": "display_data"
    }
   ],
   "source": [
    "df[:1440].plot(x='datetime', y='Sub_metering_1', label='Sub_metering_1', color='orange',ax=plt.gca(), figsize=(14,6))\n",
    "df[:1440].plot(x='datetime', y='Sub_metering_2', label='Sub_metering_2', color='red', ax=plt.gca())\n",
    "df[:1440].plot(x='datetime', y='Sub_metering_3', label='Sub_metering_3', color='blue', ax=plt.gca())\n",
    "\n",
    "plt.legend()\n",
    "plt.xlabel('Datetime')\n",
    "plt.ylabel('Sub_metering')\n",
    "plt.grid(True)\n",
    "plt.show()\n"
   ]
  },
  {
   "cell_type": "markdown",
   "metadata": {
    "id": "LUyJCfO3c5OP"
   },
   "source": [
    "> Some extra visualizations"
   ]
  },
  {
   "cell_type": "code",
   "execution_count": 79,
   "metadata": {
    "colab": {
     "base_uri": "https://localhost:8080/",
     "height": 808
    },
    "executionInfo": {
     "elapsed": 943,
     "status": "ok",
     "timestamp": 1742557984863,
     "user": {
      "displayName": "Jorge del Castillo Gómez",
      "userId": "03598089572284782268"
     },
     "user_tz": -60
    },
    "id": "WyLy3Jgyc45_",
    "outputId": "93ead990-6b2c-4ed2-efd8-7e4153d43bec"
   },
   "outputs": [
    {
     "name": "stdout",
     "output_type": "stream",
     "text": [
      "Espaciado entre timestamps: True\n"
     ]
    },
    {
     "data": {
      "image/png": "[encoded data removed]",
      "text/plain": [
       "<Figure size 1800x1000 with 4 Axes>"
      ]
     },
     "metadata": {},
     "output_type": "display_data"
    }
   ],
   "source": [
    "### Espaciado entre timestamps\n",
    "import numpy as np\n",
    "diff = np.diff(df.index.to_numpy())   # asumimos que el indice es datetime\n",
    "Equaly_spaced = np.all(diff==diff[0]) # calculo de diferencias entre timestamps consecutivas\n",
    "\n",
    "print(f\"Espaciado entre timestamps: {Equaly_spaced}\")\n",
    "\n",
    "\n",
    "fig, axs = plt.subplots(2, 2, figsize=(18, 10))\n",
    "\n",
    "# Histograms\n",
    "axs[0, 0].hist(df['Global_active_power'], bins=10, color='red', rwidth=0.9)\n",
    "axs[0, 0].set_title('Global_active_power')\n",
    "axs[0, 0].set_xlabel('Value')\n",
    "axs[0, 0].set_ylabel('Frequency')\n",
    "axs[0, 0].grid(True)\n",
    "\n",
    "\n",
    "\n",
    "axs[0, 1].hist(df['Global_reactive_power'], bins=10, color='blue', rwidth=0.9)\n",
    "axs[0, 1].set_title('Global_reactive_power')\n",
    "axs[0, 1].set_xlabel('Value')\n",
    "axs[0, 1].set_ylabel('Frequency')\n",
    "axs[0, 1].grid(True)\n",
    "\n",
    "axs[1, 0].hist(df['Voltage'], bins=20, color='green', rwidth=0.9)\n",
    "axs[1, 0].set_title('Voltage')\n",
    "axs[1, 0].set_xlabel('Value')\n",
    "axs[1, 0].set_ylabel('Frequency')\n",
    "axs[1, 0].grid(True)\n",
    "\n",
    "axs[1, 1].hist(df['Sub_metering_1'], bins=6, color='red', alpha=0.6, rwidth=0.9, density=True, label='Sub_metering_1 Histogram')\n",
    "axs[1, 1].hist(df['Sub_metering_2'], bins=6, color='green', alpha=0.6, rwidth=0.9, density=True, label='Sub_metering_2 Histogram')\n",
    "axs[1, 1].hist(df['Sub_metering_3'], bins=6, color='purple', alpha=0.6, rwidth=0.9, density=True, label='Sub_metering_3 Histogram')\n",
    "\n",
    "axs[1, 1].set_title('Comparison of Histograms and KDE')\n",
    "axs[1, 1].set_xlabel('Value')\n",
    "axs[1, 1].set_ylabel('Percentage')\n",
    "axs[1, 1].legend(loc='best')\n",
    "axs[1, 1].grid(True)\n",
    "\n",
    "plt.tight_layout()\n",
    "plt.show()\n"
   ]
  },
  {
   "cell_type": "markdown",
   "metadata": {
    "id": "OK6ACRCAj0O_"
   },
   "source": [
    "> *Otras plots son lag plot (para estudiar la dependencia temporal de los datos) y correlation plot (relaciones lineales entre variables)*"
   ]
  },
  {
   "cell_type": "markdown",
   "metadata": {
    "id": "Il1wPqEDMqyA"
   },
   "source": [
    "## ❌ Missing Values\n",
    "Existen 3 clases de datos faltantes:\n",
    "\n",
    "- MCAR (Missing Completely at Random): Los datos faltantes ocurren por azar, sin relación con otras variables.\n",
    "\n",
    "- MAR (Missing at Random): Los datos faltantes dependen de otras variables observadas, pero no de los valores faltantes en sí.\n",
    "\n",
    "- MNAR (Missing Not at Random): Los datos faltantes dependen de los valores faltantes o de un evento relacionado.\n",
    "\n",
    "Las técnicas para solucionar *missing values* en **MCAR** son:\n",
    "\n",
    "1. Constant: Se reemplazan los valores faltantes con un valor constante común.\n",
    "  - Problema: Generalmente distorsiona la distribución de los datos, sesgando los resultados.\n",
    "\n",
    "\n",
    "2. Last Observation Carried Forward (LOCF): Se usa el último valor conocido para reemplazar los valores faltantes.\n",
    "  - Problema: Puede sesgar las series temporales si son no estacionarias, ya que asume que los valores no cambian con el tiempo.\n",
    "\n",
    "3. Next Observation Carried Backward (NOCB): Se usa el siguiente valor conocido para reemplazar los valores faltantes.\n",
    "  - Problema: Presenta los mismos problemas que LOCF, ya que introduce sesgo en series no estacionarias.\n",
    "\n",
    "4. Estadísticas (Media/Moda/Mediana): Se utiliza la media, moda o mediana de la variable para reemplazar los valores faltantes.\n",
    "  - Problema: No es adecuado para variables con alta varianza, ya que puede reducir la variabilidad de los datos.\n",
    "\n",
    "5. Estadísticas móviles: Se usa la media, moda o mediana a través de una ventana de tiempo para reemplazar los valores faltantes.\n",
    "  - Problema: Ajustar el tamaño de la ventana es complicado y no es efectivo para grandes brechas de valores faltantes.\n",
    "\n",
    "6. Interpolación lineal: Se usa una aproximación lineal de la serie temporal usando los valores conocidos.\n",
    "  - Problema: Asume linealidad en las observaciones, lo cual puede no ser válido para todas las series temporales.\n",
    "\n",
    "7. Interpolación por splines: Se usa interpolación spline utilizando polinomios para estimar los valores faltantes.\n",
    "  - Problema: Asume que la variable es suave, sin muchas perturbaciones, lo que no siempre es cierto.\n",
    "\n",
    "8. Machine Learning (knn, por ejemplo, es más costoso)\n",
    "\n",
    "**En el caso práctico, como faltan eventos enteros, una aproximación es escoger las series temporales de años previos y copiarla en las porciones de missing values**\n",
    "\n",
    "- *Si la serie temporal tiene una componente estacional (por ejemplo, en datos de consumo energético o climatológicos), se puede usar las tendencias y estacionalidades de los años anteriores para reemplazar los valores faltantes.\n",
    "Por ejemplo, si hay un hueco de datos en un mes de diciembre de un año, se puede rellenarlo con el valor correspondiente de diciembre de los años previos.*\n",
    "\n",
    "\n",
    "Cuando la serie temporal es estacionaria en el tiempo, esta técnica de elegir datos de años anteriores puede funcionar bien.\n",
    "\n"
   ]
  },
  {
   "cell_type": "markdown",
   "metadata": {
    "id": "Dpp_ZJR7ruSw"
   },
   "source": [
    "### Caso de Estudio MCAR - *no se aplica al caso real del dataset*"
   ]
  },
  {
   "cell_type": "code",
   "execution_count": null,
   "metadata": {
    "colab": {
     "base_uri": "https://localhost:8080/"
    },
    "id": "qkbIox4ePHDZ",
    "outputId": "0c20ce68-4acb-44ea-a836-8d6a73cd6c06"
   },
   "outputs": [
    {
     "name": "stderr",
     "output_type": "stream",
     "text": [
      "<ipython-input-5-e9443599d05e>:1: FutureWarning: DataFrame.fillna with 'method' is deprecated and will raise in a future version. Use obj.ffill() or obj.bfill() instead.\n",
      "  df.fillna(method='ffill', inplace=True)\n"
     ]
    }
   ],
   "source": [
    "# df.fillna(method='ffill', inplace=True)"
   ]
  },
  {
   "cell_type": "markdown",
   "metadata": {
    "id": "0CIYesl-r-cg"
   },
   "source": [
    "> Statistical test for stationarity. If p < 0.05. then is stationary, so we can apply LOCD"
   ]
  },
  {
   "cell_type": "code",
   "execution_count": 81,
   "metadata": {
    "colab": {
     "base_uri": "https://localhost:8080/"
    },
    "executionInfo": {
     "elapsed": 513,
     "status": "ok",
     "timestamp": 1742560501239,
     "user": {
      "displayName": "Jorge del Castillo Gómez",
      "userId": "03598089572284782268"
     },
     "user_tz": -60
    },
    "id": "07XrZ7MHPHBK",
    "outputId": "6141591e-3ab0-4461-8351-cd202e81c830"
   },
   "outputs": [
    {
     "name": "stdout",
     "output_type": "stream",
     "text": [
      "Columna: Global_active_power, p-value: 0.023052814613966167\n",
      "Columna: Global_reactive_power, p-value: 3.3961163078808263e-18\n",
      "Columna: Voltage, p-value: 0.3061958889889802\n",
      "Columna: Global_intensity, p-value: 0.03198175010138851\n",
      "Columna: Sub_metering_2, p-value: 0.004226508528277425\n",
      "Columna: Sub_metering_3, p-value: 0.2389240396960649\n"
     ]
    }
   ],
   "source": [
    "from statsmodels.tsa.stattools import adfuller\n",
    "\n",
    "col = 'Global_active_power'\n",
    "result = adfuller(df['Global_active_power'].loc[:1000])\n",
    "p_value = result[1]\n",
    "print(f\"Columna: {col}, p-value: {p_value}\")\n",
    "\n",
    "col = 'Global_reactive_power'\n",
    "result = adfuller(df['Global_reactive_power'].loc[:1000])\n",
    "p_value = result[1]\n",
    "print(f\"Columna: {col}, p-value: {p_value}\")\n",
    "\n",
    "col = 'Voltage'\n",
    "result = adfuller(df['Voltage'].loc[:1000])\n",
    "p_value = result[1]\n",
    "print(f\"Columna: {col}, p-value: {p_value}\")\n",
    "\n",
    "col = 'Global_intensity'\n",
    "result = adfuller(df['Global_intensity'].loc[:1000])\n",
    "p_value = result[1]\n",
    "print(f\"Columna: {col}, p-value: {p_value}\")\n",
    "\n",
    "col = 'Sub_metering_2'\n",
    "result = adfuller(df['Sub_metering_2'].loc[:1000])\n",
    "p_value = result[1]\n",
    "print(f\"Columna: {col}, p-value: {p_value}\")\n",
    "\n",
    "col = 'Sub_metering_3'\n",
    "result = adfuller(df['Sub_metering_3'].loc[:1000])\n",
    "p_value = result[1]\n",
    "print(f\"Columna: {col}, p-value: {p_value}\")"
   ]
  },
  {
   "cell_type": "markdown",
   "metadata": {
    "id": "crWne6nVcjci"
   },
   "source": [
    "> Solo se puede aplicar LOCD a las columnas Global active, reactive y intensity powers"
   ]
  },
  {
   "cell_type": "code",
   "execution_count": 82,
   "metadata": {
    "executionInfo": {
     "elapsed": 292,
     "status": "ok",
     "timestamp": 1742560504096,
     "user": {
      "displayName": "Jorge del Castillo Gómez",
      "userId": "03598089572284782268"
     },
     "user_tz": -60
    },
    "id": "qrWwFULoWAh0"
   },
   "outputs": [],
   "source": [
    "df_copy = df.copy()"
   ]
  },
  {
   "cell_type": "code",
   "execution_count": 83,
   "metadata": {
    "colab": {
     "base_uri": "https://localhost:8080/",
     "height": 458
    },
    "executionInfo": {
     "elapsed": 222,
     "status": "ok",
     "timestamp": 1742560504545,
     "user": {
      "displayName": "Jorge del Castillo Gómez",
      "userId": "03598089572284782268"
     },
     "user_tz": -60
    },
    "id": "MxpeVOUyVP1W",
    "outputId": "b7901527-a3a0-4678-a52d-b12a5aa70628"
   },
   "outputs": [
    {
     "data": {
      "text/html": [
       "<div>\n",
       "<style scoped>\n",
       "    .dataframe tbody tr th:only-of-type {\n",
       "        vertical-align: middle;\n",
       "    }\n",
       "\n",
       "    .dataframe tbody tr th {\n",
       "        vertical-align: top;\n",
       "    }\n",
       "\n",
       "    .dataframe thead th {\n",
       "        text-align: right;\n",
       "    }\n",
       "</style>\n",
       "<table border=\"1\" class=\"dataframe\">\n",
       "  <thead>\n",
       "    <tr style=\"text-align: right;\">\n",
       "      <th></th>\n",
       "      <th>Global_intensity</th>\n",
       "    </tr>\n",
       "  </thead>\n",
       "  <tbody>\n",
       "    <tr>\n",
       "      <th>0</th>\n",
       "      <td>18.4</td>\n",
       "    </tr>\n",
       "    <tr>\n",
       "      <th>1</th>\n",
       "      <td>23.0</td>\n",
       "    </tr>\n",
       "    <tr>\n",
       "      <th>2</th>\n",
       "      <td>23.0</td>\n",
       "    </tr>\n",
       "    <tr>\n",
       "      <th>3</th>\n",
       "      <td>23.0</td>\n",
       "    </tr>\n",
       "    <tr>\n",
       "      <th>4</th>\n",
       "      <td>15.8</td>\n",
       "    </tr>\n",
       "    <tr>\n",
       "      <th>...</th>\n",
       "      <td>...</td>\n",
       "    </tr>\n",
       "    <tr>\n",
       "      <th>2075254</th>\n",
       "      <td>4.0</td>\n",
       "    </tr>\n",
       "    <tr>\n",
       "      <th>2075255</th>\n",
       "      <td>4.0</td>\n",
       "    </tr>\n",
       "    <tr>\n",
       "      <th>2075256</th>\n",
       "      <td>3.8</td>\n",
       "    </tr>\n",
       "    <tr>\n",
       "      <th>2075257</th>\n",
       "      <td>3.8</td>\n",
       "    </tr>\n",
       "    <tr>\n",
       "      <th>2075258</th>\n",
       "      <td>3.8</td>\n",
       "    </tr>\n",
       "  </tbody>\n",
       "</table>\n",
       "<p>2075259 rows × 1 columns</p>\n",
       "</div><br><label><b>dtype:</b> float64</label>"
      ],
      "text/plain": [
       "0          18.4\n",
       "1          23.0\n",
       "2          23.0\n",
       "3          23.0\n",
       "4          15.8\n",
       "           ... \n",
       "2075254     4.0\n",
       "2075255     4.0\n",
       "2075256     3.8\n",
       "2075257     3.8\n",
       "2075258     3.8\n",
       "Name: Global_intensity, Length: 2075259, dtype: float64"
      ]
     },
     "execution_count": 83,
     "metadata": {},
     "output_type": "execute_result"
    }
   ],
   "source": [
    "# Las columnas Global_active_power, Global_reactive_power y Global_intensity son estacionarias, por tanto\n",
    "# relleno con LOCD: last observation\n",
    "\n",
    "df_copy['Global_active_power'].fillna(\n",
    "    df['Global_active_power'].rolling(window=100, min_periods=1).mean(),\n",
    ")\n",
    "\n",
    "df_copy['Global_reactive_power'].fillna(\n",
    "    df['Global_reactive_power'].rolling(window=100, min_periods=1).mean(),\n",
    ")\n",
    "\n",
    "df_copy['Global_intensity'].fillna(\n",
    "    df['Global_intensity'].rolling(window=100, min_periods=1).mean(),\n",
    ")"
   ]
  },
  {
   "cell_type": "markdown",
   "metadata": {
    "id": "z9LJOz4EWRba"
   },
   "source": [
    "> Quedan por rellenar las columnas [Voltage] y [Sub_metering_1,2,3]. En la siguiente celda se estudia la varianza y la media, para concluir si los valores nulos se pueden rellenar con estadísticas."
   ]
  },
  {
   "cell_type": "code",
   "execution_count": 84,
   "metadata": {
    "colab": {
     "base_uri": "https://localhost:8080/"
    },
    "executionInfo": {
     "elapsed": 120,
     "status": "ok",
     "timestamp": 1742560617680,
     "user": {
      "displayName": "Jorge del Castillo Gómez",
      "userId": "03598089572284782268"
     },
     "user_tz": -60
    },
    "id": "rrXneWbjXda3",
    "outputId": "f62eac29-0d69-4fc4-af77-ddf227739b9b"
   },
   "outputs": [
    {
     "name": "stdout",
     "output_type": "stream",
     "text": [
      "Varianzas: \n",
      " Sub_metering_1    37.859792\n",
      "Sub_metering_2    33.895992\n",
      "Sub_metering_3    71.185566\n",
      "Voltage           10.497514\n",
      "dtype: float64\n",
      "Medias': \n",
      "Sub_metering_1      1.121923\n",
      "Sub_metering_2      1.298520\n",
      "Sub_metering_3      6.458447\n",
      "Voltage           240.839858\n",
      "dtype: float64\n",
      "La varianza es alta en 'Sub_metering_1'.\n",
      "La varianza es alta en 'Sub_metering_2'.\n",
      "La varianza es alta en 'Sub_metering_3'.\n",
      "La varianza no es tan alta en 'Voltage'.\n"
     ]
    }
   ],
   "source": [
    "variances = df_copy[['Sub_metering_1', 'Sub_metering_2', 'Sub_metering_3', 'Voltage']].var()\n",
    "print(f\"Varianzas: \\n {variances}\")\n",
    "\n",
    "means = df[['Sub_metering_1', 'Sub_metering_2','Sub_metering_3', 'Voltage']].mean()\n",
    "\n",
    "print(f\"Medias': \\n{means}\")\n",
    "\n",
    "if variances.iloc[0] > means.iloc[0]:\n",
    "    print(\"La varianza es alta en 'Sub_metering_1'.\")\n",
    "else:\n",
    "    print(\"La varianza no es tan alta en 'Sub_metering_1'.\")\n",
    "\n",
    "if variances.iloc[1] > means.iloc[1]:\n",
    "    print(\"La varianza es alta en 'Sub_metering_2'.\")\n",
    "else:\n",
    "    print(\"La varianza no es tan alta en 'Sub_metering_2'.\")\n",
    "\n",
    "if variances.iloc[2] > means.iloc[2]:\n",
    "    print(\"La varianza es alta en 'Sub_metering_3'.\")\n",
    "else:\n",
    "    print(\"La varianza no es tan alta en 'Sub_metering_3'.\")\n",
    "\n",
    "if variances.iloc[3] > means.iloc[3]:\n",
    "    print(\"La varianza es alta en 'Voltage'.\")\n",
    "else:\n",
    "    print(\"La varianza no es tan alta en 'Voltage'.\")"
   ]
  },
  {
   "cell_type": "markdown",
   "metadata": {
    "id": "xx_DfPvVZYOp"
   },
   "source": [
    "Se rellenan los valores nulos de la columna 'Voltage' con su media"
   ]
  },
  {
   "cell_type": "code",
   "execution_count": null,
   "metadata": {
    "colab": {
     "base_uri": "https://localhost:8080/"
    },
    "id": "nXzZZUIAXtPo",
    "outputId": "94eaec4a-b308-41f4-f970-417dfc058b6c"
   },
   "outputs": [
    {
     "name": "stdout",
     "output_type": "stream",
     "text": [
      "0\n"
     ]
    },
    {
     "name": "stderr",
     "output_type": "stream",
     "text": [
      "<ipython-input-49-a5e83af43f10>:2: FutureWarning: A value is trying to be set on a copy of a DataFrame or Series through chained assignment using an inplace method.\n",
      "The behavior will change in pandas 3.0. This inplace method will never work because the intermediate object on which we are setting values always behaves as a copy.\n",
      "\n",
      "For example, when doing 'df[col].method(value, inplace=True)', try using 'df.method({col: value}, inplace=True)' or df[col] = df[col].method(value) instead, to perform the operation inplace on the original object.\n",
      "\n",
      "\n",
      "  df['Voltage'].fillna(mean_voltage, inplace=True)\n"
     ]
    }
   ],
   "source": [
    "mean_voltage = df['Voltage'].mean()\n",
    "df['Voltage'].fillna(mean_voltage, inplace=True)\n",
    "print(df['Voltage'].isnull().sum())"
   ]
  },
  {
   "cell_type": "markdown",
   "metadata": {
    "id": "bjIs0JlcebGy"
   },
   "source": [
    "> Quedarían las columnas [sub_metering_1, sub_metering_2, sub_metering_3]. Como nos encontramos en un caso de *missing values* MCAR, dejamos el caso de estudio de rellenos MCAR. En el siguiente apartado se rellenan mediante series temporales parciales de años previos."
   ]
  },
  {
   "cell_type": "markdown",
   "metadata": {
    "id": "oRHmrfcPt1n4"
   },
   "source": [
    "## Caso de estudio real del dataset"
   ]
  },
  {
   "cell_type": "code",
   "execution_count": 6,
   "metadata": {
    "colab": {
     "base_uri": "https://localhost:8080/"
    },
    "executionInfo": {
     "elapsed": 8,
     "status": "ok",
     "timestamp": 1742562998171,
     "user": {
      "displayName": "Jorge del Castillo Gómez",
      "userId": "03598089572284782268"
     },
     "user_tz": -60
    },
    "id": "D1TBo_lT2PGx",
    "outputId": "b5b41fa7-b69a-4345-c860-3f9814eed6c6"
   },
   "outputs": [
    {
     "data": {
      "text/plain": [
       "25979"
      ]
     },
     "execution_count": 6,
     "metadata": {},
     "output_type": "execute_result"
    }
   ],
   "source": [
    "df['Global_active_power'].isna().sum()"
   ]
  },
  {
   "cell_type": "code",
   "execution_count": 7,
   "metadata": {
    "colab": {
     "base_uri": "https://localhost:8080/"
    },
    "executionInfo": {
     "elapsed": 285,
     "status": "ok",
     "timestamp": 1742564638414,
     "user": {
      "displayName": "Jorge del Castillo Gómez",
      "userId": "03598089572284782268"
     },
     "user_tz": -60
    },
    "id": "69y5FYAmeIQ_",
    "outputId": "5c649923-c071-402e-e5ee-17db375ede95"
   },
   "outputs": [
    {
     "name": "stdout",
     "output_type": "stream",
     "text": [
      "Numero de filas completamente vacias: 25979\n"
     ]
    }
   ],
   "source": [
    "df_copy = df.copy()\n",
    "nan_rows = df_copy.drop(columns=['datetime', 'Time', 'Date']).isna().all(axis=1)\n",
    "\n",
    "print(f\"Numero de filas completamente vacias: {nan_rows.sum()}\")"
   ]
  },
  {
   "cell_type": "code",
   "execution_count": 115,
   "metadata": {
    "colab": {
     "base_uri": "https://localhost:8080/",
     "height": 542,
     "output_embedded_package_id": "13OZTXseeq-w4BGlbAJUYiIqs9qg4sy9K"
    },
    "executionInfo": {
     "elapsed": 29480,
     "status": "ok",
     "timestamp": 1742564910242,
     "user": {
      "displayName": "Jorge del Castillo Gómez",
      "userId": "03598089572284782268"
     },
     "user_tz": -60
    },
    "id": "NbWN9_er6iYZ",
    "outputId": "94872877-e5af-4871-aed1-d0fc3102a849"
   },
   "outputs": [
    {
     "data": {
      "text/plain": [
       "Output hidden; open in https://colab.research.google.com to view."
      ]
     },
     "metadata": {},
     "output_type": "display_data"
    }
   ],
   "source": [
    "import plotly.graph_objects as go\n",
    "import numpy as np\n",
    "\n",
    "fig = go.Figure()\n",
    "\n",
    "# Crear la columna con NaNs reemplazados por 12\n",
    "df_copy['Global_active_power_filled'] = df_copy['Global_active_power'].fillna(12)\n",
    "\n",
    "# Agregar la línea con los valores reemplazados\n",
    "fig.add_trace(go.Scatter(x=df_copy['datetime'], y=df_copy['Global_active_power_filled'], mode='lines', name='Global_active_power', line=dict(color='blue')))\n",
    "\n",
    "# Encontrar las filas con los valores originales NaN\n",
    "missing_rows = df_copy[df_copy['Global_active_power'].isna()]\n",
    "\n",
    "# Agregar los puntos rojos para los valores NaN que fueron reemplazados por 12\n",
    "fig.add_trace(go.Scatter(x=missing_rows['datetime'], y=[12]*len(missing_rows), mode='markers', name='Missing Data (Replaced)', marker=dict(color='red', size=8)))\n",
    "\n",
    "# Actualizar el diseño de la gráfica\n",
    "fig.update_layout(title='Global Active Power with NaNs Replaced by 12 (Highlighted)',\n",
    "                  xaxis_title='Datetime',\n",
    "                  yaxis_title='Global Active Power',\n",
    "                  template='plotly_dark')\n",
    "\n",
    "# Mostrar la gráfica interactiva\n",
    "fig.show()\n"
   ]
  },
  {
   "cell_type": "code",
   "execution_count": null,
   "metadata": {
    "colab": {
     "base_uri": "https://localhost:8080/"
    },
    "executionInfo": {
     "elapsed": 6,
     "status": "ok",
     "timestamp": 1742564809227,
     "user": {
      "displayName": "Jorge del Castillo Gómez",
      "userId": "03598089572284782268"
     },
     "user_tz": -60
    },
    "id": "HtaPyWbZfCzi",
    "outputId": "13041687-279e-4592-cb7e-1db36f85472c"
   },
   "outputs": [],
   "source": [
    "num_replaced = (df_copy['Global_active_power_filled'] == 12).sum()\n",
    "num_replaced"
   ]
  },
  {
   "cell_type": "code",
   "execution_count": 9,
   "metadata": {
    "colab": {
     "base_uri": "https://localhost:8080/"
    },
    "executionInfo": {
     "elapsed": 205,
     "status": "ok",
     "timestamp": 1742578691467,
     "user": {
      "displayName": "Jorge del Castillo Gómez",
      "userId": "03598089572284782268"
     },
     "user_tz": -60
    },
    "id": "Gb2H405neaCm",
    "outputId": "e92983a3-63cb-4300-b8c5-d0aa6860335e"
   },
   "outputs": [
    {
     "name": "stdout",
     "output_type": "stream",
     "text": [
      "                          min                 max  duration\n",
      "nan_group                                                  \n",
      "138       2010-08-17 21:02:00 2010-08-22 21:27:00  5.017361\n",
      "140       2010-09-25 03:56:00 2010-09-28 19:12:00  3.636111\n",
      "14        2007-04-28 00:21:00 2007-04-30 14:23:00  2.584722\n",
      "100       2009-06-13 00:30:00 2009-06-15 07:34:00  2.294444\n",
      "118       2010-01-12 14:53:00 2010-01-14 19:01:00  2.172222\n",
      "126       2010-03-20 03:52:00 2010-03-21 13:38:00  1.406944\n",
      "104       2009-08-13 05:00:00 2009-08-13 19:50:00  0.618056\n",
      "32        2007-07-15 16:49:00 2007-07-15 18:11:00  0.056944\n",
      "78        2008-12-10 10:48:00 2008-12-10 11:57:00  0.047917\n",
      "34        2007-07-15 18:21:00 2007-07-15 19:07:00  0.031944\n",
      "70        2008-10-25 10:28:00 2008-10-25 11:10:00  0.029167\n",
      "84        2009-02-01 16:29:00 2009-02-01 17:06:00  0.025694\n",
      "26        2007-06-09 17:59:00 2007-06-09 18:31:00  0.022222\n",
      "88        2009-02-17 10:06:00 2009-02-17 10:29:00  0.015972\n",
      "38        2007-08-01 08:12:00 2007-08-01 08:32:00  0.013889\n",
      "72        2008-11-10 17:43:00 2008-11-10 17:48:00  0.003472\n",
      "102       2009-07-10 22:28:00 2009-07-10 22:31:00  0.002083\n",
      "98        2009-05-26 04:43:00 2009-05-26 04:45:00  0.001389\n",
      "24        2007-06-09 17:55:00 2007-06-09 17:57:00  0.001389\n",
      "94        2009-04-13 18:54:00 2009-04-13 18:55:00  0.000694\n",
      "60        2008-05-16 19:23:00 2008-05-16 19:24:00  0.000694\n",
      "86        2009-02-14 09:17:00 2009-02-14 09:18:00  0.000694\n",
      "108       2009-09-30 08:48:00 2009-09-30 08:49:00  0.000694\n",
      "74        2008-11-12 14:21:00 2008-11-12 14:22:00  0.000694\n",
      "4         2006-12-30 10:08:00 2006-12-30 10:09:00  0.000694\n",
      "114       2009-12-10 08:26:00 2009-12-10 08:27:00  0.000694\n",
      "64        2008-07-13 20:26:00 2008-07-13 20:27:00  0.000694\n",
      "2         2006-12-21 11:23:00 2006-12-21 11:24:00  0.000694\n",
      "28        2007-06-19 12:14:00 2007-06-19 12:15:00  0.000694\n",
      "56        2008-02-23 10:19:00 2008-02-23 10:20:00  0.000694\n"
     ]
    },
    {
     "name": "stderr",
     "output_type": "stream",
     "text": [
      "C:\\Users\\34627\\AppData\\Local\\Temp\\ipykernel_7752\\228161743.py:26: SettingWithCopyWarning: \n",
      "A value is trying to be set on a copy of a slice from a DataFrame.\n",
      "Try using .loc[row_indexer,col_indexer] = value instead\n",
      "\n",
      "See the caveats in the documentation: https://pandas.pydata.org/pandas-docs/stable/user_guide/indexing.html#returning-a-view-versus-a-copy\n",
      "  nan_blocks['nan_group'] = nan_groups\n"
     ]
    }
   ],
   "source": [
    "import pandas as pd\n",
    "\n",
    "nan_rows = df.drop(columns=['datetime', 'Time', 'Date']).isna().all(axis=1)\n",
    "\n",
    "'''Se identifican bloques consecutivos de NaN. Primero, con .ne se compara el valor actual de nan_rows con el valor desplazado por shift(). Devuelve\n",
    "   True cuando se produce un cambio en la secuencia.\n",
    "\n",
    "nan_rows: [True, True, False, True, True, True, False, True]\n",
    "\n",
    "Después de hacer el shift() = desplazamiento, tenemos:\n",
    "          [NaN, True, True, False, True, True, True, False]\n",
    "Después de aplicar .ne(nan_rows.shift()), obtenemos:\n",
    "          [True, False, True, True, False, False, True, True]\n",
    "\n",
    "Finalmente, aplicamos .cumsum() a la serie anterior, lo que da como resultado:\n",
    "          [1, 1, 2, 3, 3, 3, 4, 5]\n",
    "\n",
    "'''\n",
    "\n",
    "nan_groups = nan_rows.ne(nan_rows.shift()).cumsum()\n",
    "\n",
    "# Nos quedamos con las filas que son NaN\n",
    "nan_blocks = df[nan_rows]\n",
    "\n",
    "# Ahora, para cada grupo consecutivo, calculamos la duración en términos de la diferencia de tiempo\n",
    "nan_blocks['nan_group'] = nan_groups\n",
    "\n",
    "# Calcular la duración de cada bloque NaN\n",
    "nan_durations = nan_blocks.groupby('nan_group')['datetime'].agg(['min', 'max'])\n",
    "\n",
    "# Calculamos la duración en días o la diferencia de tiempo\n",
    "nan_durations['duration'] = (nan_durations['max'] - nan_durations['min']).dt.total_seconds() / (60*60*24)  # En días\n",
    "\n",
    "print(nan_durations.sort_values(by='duration', ascending=False).head(30))\n"
   ]
  },
  {
   "cell_type": "markdown",
   "metadata": {
    "id": "NPtOdHwvGkgR"
   },
   "source": [
    "La idea es rellenar aquellos fragmentos con nulos de tiempo según un umbral. Se establece un umbral mínimo de duración 0.013, de tal modo que todas las franjas de tiempo que duren más se rellenen con la serie temporal de otro año.\n",
    "\n",
    "```\n",
    "38  2007-08-01 08:12:00 2007-08-01 08:32:00  0.013889\n",
    "```\n",
    "\n"
   ]
  },
  {
   "cell_type": "code",
   "execution_count": 10,
   "metadata": {
    "colab": {
     "base_uri": "https://localhost:8080/"
    },
    "executionInfo": {
     "elapsed": 37,
     "status": "ok",
     "timestamp": 1742578697311,
     "user": {
      "displayName": "Jorge del Castillo Gómez",
      "userId": "03598089572284782268"
     },
     "user_tz": -60
    },
    "id": "pppj4CL1F0hJ",
    "outputId": "4ef8d00c-a472-4d5c-9b76-bfd776254d46"
   },
   "outputs": [
    {
     "name": "stdout",
     "output_type": "stream",
     "text": [
      "nan_group                     38\n",
      "min          2007-08-01 08:12:00\n",
      "max          2007-08-01 08:32:00\n",
      "duration                0.013889\n",
      "Name: 18, dtype: object\n"
     ]
    }
   ],
   "source": [
    "nan_durations = nan_durations.reset_index()\n",
    "\n",
    "sorted_nans = nan_durations.sort_values(by='duration', ascending=False)\n",
    "\n",
    "print(sorted_nans.iloc[14])"
   ]
  },
  {
   "cell_type": "code",
   "execution_count": 11,
   "metadata": {
    "colab": {
     "base_uri": "https://localhost:8080/"
    },
    "executionInfo": {
     "elapsed": 6485,
     "status": "ok",
     "timestamp": 1742585596331,
     "user": {
      "displayName": "Jorge del Castillo Gómez",
      "userId": "03598089572284782268"
     },
     "user_tz": -60
    },
    "id": "OujMyzJ5JfH5",
    "outputId": "952ea199-eab8-4324-d547-685060502231"
   },
   "outputs": [
    {
     "name": "stdout",
     "output_type": "stream",
     "text": [
      "El umbral de duracion es: 0.013888888888888888\n",
      "##### Procesando bloque vacío: \n",
      "nan_group                     14\n",
      "min          2007-04-28 00:21:00\n",
      "max          2007-04-30 14:23:00\n",
      "duration                2.584722\n",
      "Name: 6, dtype: object\n",
      "### Comprobando datos para el año 2008...\n",
      "\t### Nueva fecha inicio y fin: 2008-04-28 00:21:00 y 2008-04-30 14:23:00\n",
      "\t\t### Datos completos para el año 2008. Rellenando...\n",
      "\t\t### Mask: 3723, longitud de máscara: 2075259\n",
      "Columna: Global_active_power - Máscara: 3723 -  Longitud de valores: 3723\n",
      "Columna: Global_reactive_power - Máscara: 3723 -  Longitud de valores: 3723\n",
      "Columna: Voltage - Máscara: 3723 -  Longitud de valores: 3723\n",
      "Columna: Global_intensity - Máscara: 3723 -  Longitud de valores: 3723\n",
      "Columna: Sub_metering_1 - Máscara: 3723 -  Longitud de valores: 3723\n",
      "Columna: Sub_metering_2 - Máscara: 3723 -  Longitud de valores: 3723\n",
      "Columna: Sub_metering_3 - Máscara: 3723 -  Longitud de valores: 3723\n",
      "\t\t\t### Numero de valores vacios despues de Rellenar: \n",
      "Date                         0\n",
      "Time                         0\n",
      "Global_active_power      22256\n",
      "Global_reactive_power    22256\n",
      "Voltage                  22256\n",
      "Global_intensity         22256\n",
      "Sub_metering_1           22256\n",
      "Sub_metering_2           22256\n",
      "Sub_metering_3           22256\n",
      "datetime                     0\n",
      "dtype: int64\n",
      "\t\t### Rellenado con los datos del año 2008\n",
      "-----------------------------------------------------------------------------\n",
      "##### Procesando bloque vacío: \n",
      "nan_group                     26\n",
      "min          2007-06-09 17:59:00\n",
      "max          2007-06-09 18:31:00\n",
      "duration                0.022222\n",
      "Name: 12, dtype: object\n",
      "### Comprobando datos para el año 2008...\n",
      "\t### Nueva fecha inicio y fin: 2008-06-09 17:59:00 y 2008-06-09 18:31:00\n",
      "\t\t### Datos completos para el año 2008. Rellenando...\n",
      "\t\t### Mask: 33, longitud de máscara: 2075259\n",
      "Columna: Global_active_power - Máscara: 33 -  Longitud de valores: 33\n",
      "Columna: Global_reactive_power - Máscara: 33 -  Longitud de valores: 33\n",
      "Columna: Voltage - Máscara: 33 -  Longitud de valores: 33\n",
      "Columna: Global_intensity - Máscara: 33 -  Longitud de valores: 33\n",
      "Columna: Sub_metering_1 - Máscara: 33 -  Longitud de valores: 33\n",
      "Columna: Sub_metering_2 - Máscara: 33 -  Longitud de valores: 33\n",
      "Columna: Sub_metering_3 - Máscara: 33 -  Longitud de valores: 33\n",
      "\t\t\t### Numero de valores vacios despues de Rellenar: \n",
      "Date                         0\n",
      "Time                         0\n",
      "Global_active_power      22223\n",
      "Global_reactive_power    22223\n",
      "Voltage                  22223\n",
      "Global_intensity         22223\n",
      "Sub_metering_1           22223\n",
      "Sub_metering_2           22223\n",
      "Sub_metering_3           22223\n",
      "datetime                     0\n",
      "dtype: int64\n",
      "\t\t### Rellenado con los datos del año 2008\n",
      "-----------------------------------------------------------------------------\n",
      "##### Procesando bloque vacío: \n",
      "nan_group                     32\n",
      "min          2007-07-15 16:49:00\n",
      "max          2007-07-15 18:11:00\n",
      "duration                0.056944\n",
      "Name: 15, dtype: object\n",
      "### Comprobando datos para el año 2008...\n",
      "\t### Nueva fecha inicio y fin: 2008-07-15 16:49:00 y 2008-07-15 18:11:00\n",
      "\t\t### Datos completos para el año 2008. Rellenando...\n",
      "\t\t### Mask: 83, longitud de máscara: 2075259\n",
      "Columna: Global_active_power - Máscara: 83 -  Longitud de valores: 83\n",
      "Columna: Global_reactive_power - Máscara: 83 -  Longitud de valores: 83\n",
      "Columna: Voltage - Máscara: 83 -  Longitud de valores: 83\n",
      "Columna: Global_intensity - Máscara: 83 -  Longitud de valores: 83\n",
      "Columna: Sub_metering_1 - Máscara: 83 -  Longitud de valores: 83\n",
      "Columna: Sub_metering_2 - Máscara: 83 -  Longitud de valores: 83\n",
      "Columna: Sub_metering_3 - Máscara: 83 -  Longitud de valores: 83\n",
      "\t\t\t### Numero de valores vacios despues de Rellenar: \n",
      "Date                         0\n",
      "Time                         0\n",
      "Global_active_power      22140\n",
      "Global_reactive_power    22140\n",
      "Voltage                  22140\n",
      "Global_intensity         22140\n",
      "Sub_metering_1           22140\n",
      "Sub_metering_2           22140\n",
      "Sub_metering_3           22140\n",
      "datetime                     0\n",
      "dtype: int64\n",
      "\t\t### Rellenado con los datos del año 2008\n",
      "-----------------------------------------------------------------------------\n",
      "##### Procesando bloque vacío: \n",
      "nan_group                     34\n",
      "min          2007-07-15 18:21:00\n",
      "max          2007-07-15 19:07:00\n",
      "duration                0.031944\n",
      "Name: 16, dtype: object\n",
      "### Comprobando datos para el año 2008...\n",
      "\t### Nueva fecha inicio y fin: 2008-07-15 18:21:00 y 2008-07-15 19:07:00\n",
      "\t\t### Datos completos para el año 2008. Rellenando...\n",
      "\t\t### Mask: 47, longitud de máscara: 2075259\n",
      "Columna: Global_active_power - Máscara: 47 -  Longitud de valores: 47\n",
      "Columna: Global_reactive_power - Máscara: 47 -  Longitud de valores: 47\n",
      "Columna: Voltage - Máscara: 47 -  Longitud de valores: 47\n",
      "Columna: Global_intensity - Máscara: 47 -  Longitud de valores: 47\n",
      "Columna: Sub_metering_1 - Máscara: 47 -  Longitud de valores: 47\n",
      "Columna: Sub_metering_2 - Máscara: 47 -  Longitud de valores: 47\n",
      "Columna: Sub_metering_3 - Máscara: 47 -  Longitud de valores: 47\n",
      "\t\t\t### Numero de valores vacios despues de Rellenar: \n",
      "Date                         0\n",
      "Time                         0\n",
      "Global_active_power      22093\n",
      "Global_reactive_power    22093\n",
      "Voltage                  22093\n",
      "Global_intensity         22093\n",
      "Sub_metering_1           22093\n",
      "Sub_metering_2           22093\n",
      "Sub_metering_3           22093\n",
      "datetime                     0\n",
      "dtype: int64\n",
      "\t\t### Rellenado con los datos del año 2008\n",
      "-----------------------------------------------------------------------------\n",
      "##### Procesando bloque vacío: \n",
      "nan_group                     70\n",
      "min          2008-10-25 10:28:00\n",
      "max          2008-10-25 11:10:00\n",
      "duration                0.029167\n",
      "Name: 34, dtype: object\n",
      "### Comprobando datos para el año 2009...\n",
      "\t### Nueva fecha inicio y fin: 2009-10-25 10:28:00 y 2009-10-25 11:10:00\n",
      "\t\t### Datos completos para el año 2009. Rellenando...\n",
      "\t\t### Mask: 43, longitud de máscara: 2075259\n",
      "Columna: Global_active_power - Máscara: 43 -  Longitud de valores: 43\n",
      "Columna: Global_reactive_power - Máscara: 43 -  Longitud de valores: 43\n",
      "Columna: Voltage - Máscara: 43 -  Longitud de valores: 43\n",
      "Columna: Global_intensity - Máscara: 43 -  Longitud de valores: 43\n",
      "Columna: Sub_metering_1 - Máscara: 43 -  Longitud de valores: 43\n",
      "Columna: Sub_metering_2 - Máscara: 43 -  Longitud de valores: 43\n",
      "Columna: Sub_metering_3 - Máscara: 43 -  Longitud de valores: 43\n",
      "\t\t\t### Numero de valores vacios despues de Rellenar: \n",
      "Date                         0\n",
      "Time                         0\n",
      "Global_active_power      22050\n",
      "Global_reactive_power    22050\n",
      "Voltage                  22050\n",
      "Global_intensity         22050\n",
      "Sub_metering_1           22050\n",
      "Sub_metering_2           22050\n",
      "Sub_metering_3           22050\n",
      "datetime                     0\n",
      "dtype: int64\n",
      "\t\t### Rellenado con los datos del año 2009\n",
      "-----------------------------------------------------------------------------\n",
      "##### Procesando bloque vacío: \n",
      "nan_group                     78\n",
      "min          2008-12-10 10:48:00\n",
      "max          2008-12-10 11:57:00\n",
      "duration                0.047917\n",
      "Name: 38, dtype: object\n",
      "### Comprobando datos para el año 2009...\n",
      "\t### Nueva fecha inicio y fin: 2009-12-10 10:48:00 y 2009-12-10 11:57:00\n",
      "\t\t### Datos completos para el año 2009. Rellenando...\n",
      "\t\t### Mask: 70, longitud de máscara: 2075259\n",
      "Columna: Global_active_power - Máscara: 70 -  Longitud de valores: 70\n",
      "Columna: Global_reactive_power - Máscara: 70 -  Longitud de valores: 70\n",
      "Columna: Voltage - Máscara: 70 -  Longitud de valores: 70\n",
      "Columna: Global_intensity - Máscara: 70 -  Longitud de valores: 70\n",
      "Columna: Sub_metering_1 - Máscara: 70 -  Longitud de valores: 70\n",
      "Columna: Sub_metering_2 - Máscara: 70 -  Longitud de valores: 70\n",
      "Columna: Sub_metering_3 - Máscara: 70 -  Longitud de valores: 70\n",
      "\t\t\t### Numero de valores vacios despues de Rellenar: \n",
      "Date                         0\n",
      "Time                         0\n",
      "Global_active_power      21980\n",
      "Global_reactive_power    21980\n",
      "Voltage                  21980\n",
      "Global_intensity         21980\n",
      "Sub_metering_1           21980\n",
      "Sub_metering_2           21980\n",
      "Sub_metering_3           21980\n",
      "datetime                     0\n",
      "dtype: int64\n",
      "\t\t### Rellenado con los datos del año 2009\n",
      "-----------------------------------------------------------------------------\n",
      "##### Procesando bloque vacío: \n",
      "nan_group                     84\n",
      "min          2009-02-01 16:29:00\n",
      "max          2009-02-01 17:06:00\n",
      "duration                0.025694\n",
      "Name: 41, dtype: object\n",
      "### Comprobando datos para el año 2010...\n",
      "\t### Nueva fecha inicio y fin: 2010-02-01 16:29:00 y 2010-02-01 17:06:00\n",
      "\t\t### Datos completos para el año 2010. Rellenando...\n",
      "\t\t### Mask: 38, longitud de máscara: 2075259\n",
      "Columna: Global_active_power - Máscara: 38 -  Longitud de valores: 38\n",
      "Columna: Global_reactive_power - Máscara: 38 -  Longitud de valores: 38\n",
      "Columna: Voltage - Máscara: 38 -  Longitud de valores: 38\n",
      "Columna: Global_intensity - Máscara: 38 -  Longitud de valores: 38\n",
      "Columna: Sub_metering_1 - Máscara: 38 -  Longitud de valores: 38\n",
      "Columna: Sub_metering_2 - Máscara: 38 -  Longitud de valores: 38\n",
      "Columna: Sub_metering_3 - Máscara: 38 -  Longitud de valores: 38\n",
      "\t\t\t### Numero de valores vacios despues de Rellenar: \n",
      "Date                         0\n",
      "Time                         0\n",
      "Global_active_power      21942\n",
      "Global_reactive_power    21942\n",
      "Voltage                  21942\n",
      "Global_intensity         21942\n",
      "Sub_metering_1           21942\n",
      "Sub_metering_2           21942\n",
      "Sub_metering_3           21942\n",
      "datetime                     0\n",
      "dtype: int64\n",
      "\t\t### Rellenado con los datos del año 2010\n",
      "-----------------------------------------------------------------------------\n",
      "##### Procesando bloque vacío: \n",
      "nan_group                     88\n",
      "min          2009-02-17 10:06:00\n",
      "max          2009-02-17 10:29:00\n",
      "duration                0.015972\n",
      "Name: 43, dtype: object\n",
      "### Comprobando datos para el año 2010...\n",
      "\t### Nueva fecha inicio y fin: 2010-02-17 10:06:00 y 2010-02-17 10:29:00\n",
      "\t\t### Datos completos para el año 2010. Rellenando...\n",
      "\t\t### Mask: 24, longitud de máscara: 2075259\n",
      "Columna: Global_active_power - Máscara: 24 -  Longitud de valores: 24\n",
      "Columna: Global_reactive_power - Máscara: 24 -  Longitud de valores: 24\n",
      "Columna: Voltage - Máscara: 24 -  Longitud de valores: 24\n",
      "Columna: Global_intensity - Máscara: 24 -  Longitud de valores: 24\n",
      "Columna: Sub_metering_1 - Máscara: 24 -  Longitud de valores: 24\n",
      "Columna: Sub_metering_2 - Máscara: 24 -  Longitud de valores: 24\n",
      "Columna: Sub_metering_3 - Máscara: 24 -  Longitud de valores: 24\n",
      "\t\t\t### Numero de valores vacios despues de Rellenar: \n",
      "Date                         0\n",
      "Time                         0\n",
      "Global_active_power      21918\n",
      "Global_reactive_power    21918\n",
      "Voltage                  21918\n",
      "Global_intensity         21918\n",
      "Sub_metering_1           21918\n",
      "Sub_metering_2           21918\n",
      "Sub_metering_3           21918\n",
      "datetime                     0\n",
      "dtype: int64\n",
      "\t\t### Rellenado con los datos del año 2010\n",
      "-----------------------------------------------------------------------------\n",
      "##### Procesando bloque vacío: \n",
      "nan_group                    100\n",
      "min          2009-06-13 00:30:00\n",
      "max          2009-06-15 07:34:00\n",
      "duration                2.294444\n",
      "Name: 49, dtype: object\n",
      "### Comprobando datos para el año 2010...\n",
      "\t### Nueva fecha inicio y fin: 2010-06-13 00:30:00 y 2010-06-15 07:34:00\n",
      "\t\t### Datos completos para el año 2010. Rellenando...\n",
      "\t\t### Mask: 3305, longitud de máscara: 2075259\n",
      "Columna: Global_active_power - Máscara: 3305 -  Longitud de valores: 3305\n",
      "Columna: Global_reactive_power - Máscara: 3305 -  Longitud de valores: 3305\n",
      "Columna: Voltage - Máscara: 3305 -  Longitud de valores: 3305\n",
      "Columna: Global_intensity - Máscara: 3305 -  Longitud de valores: 3305\n",
      "Columna: Sub_metering_1 - Máscara: 3305 -  Longitud de valores: 3305\n",
      "Columna: Sub_metering_2 - Máscara: 3305 -  Longitud de valores: 3305\n",
      "Columna: Sub_metering_3 - Máscara: 3305 -  Longitud de valores: 3305\n",
      "\t\t\t### Numero de valores vacios despues de Rellenar: \n",
      "Date                         0\n",
      "Time                         0\n",
      "Global_active_power      18613\n",
      "Global_reactive_power    18613\n",
      "Voltage                  18613\n",
      "Global_intensity         18613\n",
      "Sub_metering_1           18613\n",
      "Sub_metering_2           18613\n",
      "Sub_metering_3           18613\n",
      "datetime                     0\n",
      "dtype: int64\n",
      "\t\t### Rellenado con los datos del año 2010\n",
      "-----------------------------------------------------------------------------\n",
      "##### Procesando bloque vacío: \n",
      "nan_group                    104\n",
      "min          2009-08-13 05:00:00\n",
      "max          2009-08-13 19:50:00\n",
      "duration                0.618056\n",
      "Name: 51, dtype: object\n",
      "### Comprobando datos para el año 2010...\n",
      "\t### Nueva fecha inicio y fin: 2010-08-13 05:00:00 y 2010-08-13 19:50:00\n",
      "\t\t### Datos completos para el año 2010. Rellenando...\n",
      "\t\t### Mask: 891, longitud de máscara: 2075259\n",
      "Columna: Global_active_power - Máscara: 891 -  Longitud de valores: 891\n",
      "Columna: Global_reactive_power - Máscara: 891 -  Longitud de valores: 891\n",
      "Columna: Voltage - Máscara: 891 -  Longitud de valores: 891\n",
      "Columna: Global_intensity - Máscara: 891 -  Longitud de valores: 891\n",
      "Columna: Sub_metering_1 - Máscara: 891 -  Longitud de valores: 891\n",
      "Columna: Sub_metering_2 - Máscara: 891 -  Longitud de valores: 891\n",
      "Columna: Sub_metering_3 - Máscara: 891 -  Longitud de valores: 891\n",
      "\t\t\t### Numero de valores vacios despues de Rellenar: \n",
      "Date                         0\n",
      "Time                         0\n",
      "Global_active_power      17722\n",
      "Global_reactive_power    17722\n",
      "Voltage                  17722\n",
      "Global_intensity         17722\n",
      "Sub_metering_1           17722\n",
      "Sub_metering_2           17722\n",
      "Sub_metering_3           17722\n",
      "datetime                     0\n",
      "dtype: int64\n",
      "\t\t### Rellenado con los datos del año 2010\n",
      "-----------------------------------------------------------------------------\n",
      "##### Procesando bloque vacío: \n",
      "nan_group                    118\n",
      "min          2010-01-12 14:53:00\n",
      "max          2010-01-14 19:01:00\n",
      "duration                2.172222\n",
      "Name: 58, dtype: object\n",
      "### Comprobando datos para el año 2011...\n",
      "\t### Nueva fecha inicio y fin: 2011-01-12 14:53:00 y 2011-01-14 19:01:00\n",
      "### Comprobando datos para el año 2009...\n",
      "\t### Nueva fecha inicio y fin: 2009-01-12 14:53:00 y 2009-01-14 19:01:00\n",
      "\t\t### Datos completos para el año 2009. Rellenando...\n",
      "\t\t### Mask: 3129, longitud de máscara: 2075259\n",
      "Columna: Global_active_power - Máscara: 3129 -  Longitud de valores: 3129\n",
      "Columna: Global_reactive_power - Máscara: 3129 -  Longitud de valores: 3129\n",
      "Columna: Voltage - Máscara: 3129 -  Longitud de valores: 3129\n",
      "Columna: Global_intensity - Máscara: 3129 -  Longitud de valores: 3129\n",
      "Columna: Sub_metering_1 - Máscara: 3129 -  Longitud de valores: 3129\n",
      "Columna: Sub_metering_2 - Máscara: 3129 -  Longitud de valores: 3129\n",
      "Columna: Sub_metering_3 - Máscara: 3129 -  Longitud de valores: 3129\n",
      "\t\t\t### Numero de valores vacios despues de Rellenar: \n",
      "Date                         0\n",
      "Time                         0\n",
      "Global_active_power      14593\n",
      "Global_reactive_power    14593\n",
      "Voltage                  14593\n",
      "Global_intensity         14593\n",
      "Sub_metering_1           14593\n",
      "Sub_metering_2           14593\n",
      "Sub_metering_3           14593\n",
      "datetime                     0\n",
      "dtype: int64\n",
      "\t\t### Rellenado con los datos del año 2009\n",
      "-----------------------------------------------------------------------------\n",
      "##### Procesando bloque vacío: \n",
      "nan_group                    126\n",
      "min          2010-03-20 03:52:00\n",
      "max          2010-03-21 13:38:00\n",
      "duration                1.406944\n",
      "Name: 62, dtype: object\n",
      "### Comprobando datos para el año 2011...\n",
      "\t### Nueva fecha inicio y fin: 2011-03-20 03:52:00 y 2011-03-21 13:38:00\n",
      "### Comprobando datos para el año 2009...\n",
      "\t### Nueva fecha inicio y fin: 2009-03-20 03:52:00 y 2009-03-21 13:38:00\n",
      "\t\t### Datos completos para el año 2009. Rellenando...\n",
      "\t\t### Mask: 2027, longitud de máscara: 2075259\n",
      "Columna: Global_active_power - Máscara: 2027 -  Longitud de valores: 2027\n",
      "Columna: Global_reactive_power - Máscara: 2027 -  Longitud de valores: 2027\n",
      "Columna: Voltage - Máscara: 2027 -  Longitud de valores: 2027\n",
      "Columna: Global_intensity - Máscara: 2027 -  Longitud de valores: 2027\n",
      "Columna: Sub_metering_1 - Máscara: 2027 -  Longitud de valores: 2027\n",
      "Columna: Sub_metering_2 - Máscara: 2027 -  Longitud de valores: 2027\n",
      "Columna: Sub_metering_3 - Máscara: 2027 -  Longitud de valores: 2027\n",
      "\t\t\t### Numero de valores vacios despues de Rellenar: \n",
      "Date                         0\n",
      "Time                         0\n",
      "Global_active_power      12566\n",
      "Global_reactive_power    12566\n",
      "Voltage                  12566\n",
      "Global_intensity         12566\n",
      "Sub_metering_1           12566\n",
      "Sub_metering_2           12566\n",
      "Sub_metering_3           12566\n",
      "datetime                     0\n",
      "dtype: int64\n",
      "\t\t### Rellenado con los datos del año 2009\n",
      "-----------------------------------------------------------------------------\n",
      "##### Procesando bloque vacío: \n",
      "nan_group                    138\n",
      "min          2010-08-17 21:02:00\n",
      "max          2010-08-22 21:27:00\n",
      "duration                5.017361\n",
      "Name: 68, dtype: object\n",
      "### Comprobando datos para el año 2011...\n",
      "\t### Nueva fecha inicio y fin: 2011-08-17 21:02:00 y 2011-08-22 21:27:00\n",
      "### Comprobando datos para el año 2009...\n",
      "\t### Nueva fecha inicio y fin: 2009-08-17 21:02:00 y 2009-08-22 21:27:00\n",
      "\t\t### Datos completos para el año 2009. Rellenando...\n",
      "\t\t### Mask: 7226, longitud de máscara: 2075259\n",
      "Columna: Global_active_power - Máscara: 7226 -  Longitud de valores: 7226\n",
      "Columna: Global_reactive_power - Máscara: 7226 -  Longitud de valores: 7226\n",
      "Columna: Voltage - Máscara: 7226 -  Longitud de valores: 7226\n",
      "Columna: Global_intensity - Máscara: 7226 -  Longitud de valores: 7226\n",
      "Columna: Sub_metering_1 - Máscara: 7226 -  Longitud de valores: 7226\n",
      "Columna: Sub_metering_2 - Máscara: 7226 -  Longitud de valores: 7226\n",
      "Columna: Sub_metering_3 - Máscara: 7226 -  Longitud de valores: 7226\n",
      "\t\t\t### Numero de valores vacios despues de Rellenar: \n",
      "Date                        0\n",
      "Time                        0\n",
      "Global_active_power      5340\n",
      "Global_reactive_power    5340\n",
      "Voltage                  5340\n",
      "Global_intensity         5340\n",
      "Sub_metering_1           5340\n",
      "Sub_metering_2           5340\n",
      "Sub_metering_3           5340\n",
      "datetime                    0\n",
      "dtype: int64\n",
      "\t\t### Rellenado con los datos del año 2009\n",
      "-----------------------------------------------------------------------------\n",
      "##### Procesando bloque vacío: \n",
      "nan_group                    140\n",
      "min          2010-09-25 03:56:00\n",
      "max          2010-09-28 19:12:00\n",
      "duration                3.636111\n",
      "Name: 69, dtype: object\n",
      "### Comprobando datos para el año 2011...\n",
      "\t### Nueva fecha inicio y fin: 2011-09-25 03:56:00 y 2011-09-28 19:12:00\n",
      "### Comprobando datos para el año 2009...\n",
      "\t### Nueva fecha inicio y fin: 2009-09-25 03:56:00 y 2009-09-28 19:12:00\n",
      "\t\t### Datos completos para el año 2009. Rellenando...\n",
      "\t\t### Mask: 5237, longitud de máscara: 2075259\n",
      "Columna: Global_active_power - Máscara: 5237 -  Longitud de valores: 5237\n",
      "Columna: Global_reactive_power - Máscara: 5237 -  Longitud de valores: 5237\n",
      "Columna: Voltage - Máscara: 5237 -  Longitud de valores: 5237\n",
      "Columna: Global_intensity - Máscara: 5237 -  Longitud de valores: 5237\n",
      "Columna: Sub_metering_1 - Máscara: 5237 -  Longitud de valores: 5237\n",
      "Columna: Sub_metering_2 - Máscara: 5237 -  Longitud de valores: 5237\n",
      "Columna: Sub_metering_3 - Máscara: 5237 -  Longitud de valores: 5237\n",
      "\t\t\t### Numero de valores vacios despues de Rellenar: \n",
      "Date                       0\n",
      "Time                       0\n",
      "Global_active_power      103\n",
      "Global_reactive_power    103\n",
      "Voltage                  103\n",
      "Global_intensity         103\n",
      "Sub_metering_1           103\n",
      "Sub_metering_2           103\n",
      "Sub_metering_3           103\n",
      "datetime                   0\n",
      "dtype: int64\n",
      "\t\t### Rellenado con los datos del año 2009\n",
      "-----------------------------------------------------------------------------\n"
     ]
    }
   ],
   "source": [
    "umbral_duracion = sorted_nans['duration'].iloc[14]\n",
    "print(f\"El umbral de duracion es: {umbral_duracion}\")\n",
    "\n",
    "franjas_a_sustituir = nan_durations[nan_durations['duration'] > umbral_duracion]\n",
    "\n",
    "\n",
    "def fill_missing_with_nearest_year(df_copy, start_date, end_date):\n",
    "\n",
    "    original_year = start_date.year\n",
    "\n",
    "    filled = False\n",
    "    for delta in [1, -1]:  # mismo año, el año siguiente, y el año anterior\n",
    "        year_to_check = original_year + delta\n",
    "        print(f\"### Comprobando datos para el año {year_to_check}...\")\n",
    "\n",
    "        # rango de fechas con el año correspondiente\n",
    "        start_date_with_year = start_date.replace(year=year_to_check)\n",
    "        end_date_with_year = end_date.replace(year=year_to_check)\n",
    "\n",
    "        print(f\"\\t### Nueva fecha inicio y fin: {start_date_with_year} y {end_date_with_year}\")\n",
    "\n",
    "        year_data = df_copy[(df_copy['datetime'] >= start_date_with_year) &\n",
    "                            (df_copy['datetime'] <= end_date_with_year)]\n",
    "\n",
    "        # hay datos completos (sin NaN) para ese rango??\n",
    "        if not (year_data.isna().any().any() or start_date_with_year.year >=2011 or start_date_with_year.year <= 2005):\n",
    "            print(f\"\\t\\t### Datos completos para el año {year_to_check}. Rellenando...\")\n",
    "\n",
    "            mask = (df_copy['datetime'] >= start_date) & (df_copy['datetime'] <= end_date)\n",
    "            print(f\"\\t\\t### Mask: {mask.sum()}, longitud de máscara: {len(mask)}\")\n",
    "\n",
    "            for column in ['Global_active_power', 'Global_reactive_power', 'Voltage', 'Global_intensity', 'Sub_metering_1', 'Sub_metering_2', 'Sub_metering_3']:\n",
    "                print(f\"Columna: {column} - Máscara: {mask.sum()} -  Longitud de valores: {len(year_data[column].values)}\")\n",
    "                df_copy.loc[mask & df_copy[column].isna(), column] = year_data[column].values\n",
    "            print(f\"\\t\\t\\t### Numero de valores vacios despues de Rellenar: \\n{df_copy.isna().sum()}\")\n",
    "\n",
    "            print(f\"\\t\\t### Rellenado con los datos del año {year_to_check}\")\n",
    "            filled = True\n",
    "            break\n",
    "\n",
    "df_copy = df.copy()\n",
    "\n",
    "for index, row in franjas_a_sustituir.iterrows():\n",
    "    start_date = row['min']\n",
    "    end_date = row['max']\n",
    "\n",
    "    print(f\"##### Procesando bloque vacío: \\n{row}\")\n",
    "    fill_missing_with_nearest_year(df_copy, start_date, end_date)\n",
    "    print(\"-----------------------------------------------------------------------------\")\n"
   ]
  },
  {
   "cell_type": "markdown",
   "metadata": {
    "id": "BXpyPXFLJJrl"
   },
   "source": [
    "> Los valores nulos restantes se pueden rellenar con una mezcla de Last Observation Carried Forward con un promedio de los tres ultimos valores."
   ]
  },
  {
   "cell_type": "code",
   "execution_count": 12,
   "metadata": {
    "colab": {
     "base_uri": "https://localhost:8080/"
    },
    "executionInfo": {
     "elapsed": 650,
     "status": "ok",
     "timestamp": 1742585596979,
     "user": {
      "displayName": "Jorge del Castillo Gómez",
      "userId": "03598089572284782268"
     },
     "user_tz": -60
    },
    "id": "iRlO_s6YJCu8",
    "outputId": "d86137c4-fdf1-4902-a1b3-4690b9833c0c"
   },
   "outputs": [
    {
     "name": "stderr",
     "output_type": "stream",
     "text": [
      "C:\\Users\\34627\\AppData\\Local\\Temp\\ipykernel_7752\\4293038663.py:2: FutureWarning: A value is trying to be set on a copy of a DataFrame or Series through chained assignment using an inplace method.\n",
      "The behavior will change in pandas 3.0. This inplace method will never work because the intermediate object on which we are setting values always behaves as a copy.\n",
      "\n",
      "For example, when doing 'df[col].method(value, inplace=True)', try using 'df.method({col: value}, inplace=True)' or df[col] = df[col].method(value) instead, to perform the operation inplace on the original object.\n",
      "\n",
      "\n",
      "  df_copy[column].fillna(df_copy[column].rolling(window=25, min_periods=1, center=True).mean(), inplace=True)\n"
     ]
    },
    {
     "name": "stdout",
     "output_type": "stream",
     "text": [
      "### Numero de valores vacios despues de Rellenar: \n",
      "Date                     0\n",
      "Time                     0\n",
      "Global_active_power      0\n",
      "Global_reactive_power    0\n",
      "Voltage                  0\n",
      "Global_intensity         0\n",
      "Sub_metering_1           0\n",
      "Sub_metering_2           0\n",
      "Sub_metering_3           0\n",
      "datetime                 0\n",
      "dtype: int64\n"
     ]
    }
   ],
   "source": [
    "for column in ['Global_active_power', 'Global_reactive_power', 'Voltage', 'Global_intensity', 'Sub_metering_1', 'Sub_metering_2', 'Sub_metering_3']:\n",
    "  df_copy[column].fillna(df_copy[column].rolling(window=25, min_periods=1, center=True).mean(), inplace=True)\n",
    "\n",
    "print(f\"### Numero de valores vacios despues de Rellenar: \\n{df_copy.isna().sum()}\")\n"
   ]
  },
  {
   "cell_type": "markdown",
   "metadata": {
    "id": "H0C69UL2MhiP"
   },
   "source": [
    "## ➗ Sliding Window\n",
    "\n",
    "La idea es crear un csv:\n",
    "\n",
    "\n",
    "\n",
    "\n",
    "\n",
    "```\n",
    " #   Column                    Dtype  \n",
    "---  ------                    -----  \n",
    " 1   start_date                datetime\n",
    " 2   end_date                  datetime\n",
    " 2   Global_active_power x5    float64\n",
    " 3   Global_reactive_power x5  float64\n",
    " 4   Voltage x5                float64\n",
    " 5   Global_intensity x5       float64\n",
    " 6   Sub_metering_1 x5         float64\n",
    " 7   Sub_metering_2 x5         float64\n",
    " 8   Sub_metering_3 x5         float64\n",
    " 9   \n",
    " ```"
   ]
  },
  {
   "cell_type": "code",
   "execution_count": 13,
   "metadata": {
    "executionInfo": {
     "elapsed": 625,
     "status": "ok",
     "timestamp": 1742592419928,
     "user": {
      "displayName": "Jorge del Castillo Gómez",
      "userId": "03598089572284782268"
     },
     "user_tz": -60
    },
    "id": "mkN-hd6CL4TV"
   },
   "outputs": [],
   "source": [
    "df_final = df_copy.copy().shift(5, axis=0)"
   ]
  },
  {
   "cell_type": "code",
   "execution_count": 14,
   "metadata": {
    "colab": {
     "base_uri": "https://localhost:8080/",
     "height": 424
    },
    "executionInfo": {
     "elapsed": 45,
     "status": "ok",
     "timestamp": 1742592421440,
     "user": {
      "displayName": "Jorge del Castillo Gómez",
      "userId": "03598089572284782268"
     },
     "user_tz": -60
    },
    "id": "e1eKIp-bii82",
    "outputId": "791beb35-8aa0-4824-d43a-e9fd70d7ab00"
   },
   "outputs": [
    {
     "data": {
      "text/html": [
       "<div>\n",
       "<style scoped>\n",
       "    .dataframe tbody tr th:only-of-type {\n",
       "        vertical-align: middle;\n",
       "    }\n",
       "\n",
       "    .dataframe tbody tr th {\n",
       "        vertical-align: top;\n",
       "    }\n",
       "\n",
       "    .dataframe thead th {\n",
       "        text-align: right;\n",
       "    }\n",
       "</style>\n",
       "<table border=\"1\" class=\"dataframe\">\n",
       "  <thead>\n",
       "    <tr style=\"text-align: right;\">\n",
       "      <th></th>\n",
       "      <th>Date</th>\n",
       "      <th>Time</th>\n",
       "      <th>Global_active_power</th>\n",
       "      <th>Global_reactive_power</th>\n",
       "      <th>Voltage</th>\n",
       "      <th>Global_intensity</th>\n",
       "      <th>Sub_metering_1</th>\n",
       "      <th>Sub_metering_2</th>\n",
       "      <th>Sub_metering_3</th>\n",
       "      <th>datetime</th>\n",
       "    </tr>\n",
       "  </thead>\n",
       "  <tbody>\n",
       "    <tr>\n",
       "      <th>0</th>\n",
       "      <td>None</td>\n",
       "      <td>None</td>\n",
       "      <td>NaN</td>\n",
       "      <td>NaN</td>\n",
       "      <td>NaN</td>\n",
       "      <td>NaN</td>\n",
       "      <td>NaN</td>\n",
       "      <td>NaN</td>\n",
       "      <td>NaN</td>\n",
       "      <td>NaT</td>\n",
       "    </tr>\n",
       "    <tr>\n",
       "      <th>1</th>\n",
       "      <td>None</td>\n",
       "      <td>None</td>\n",
       "      <td>NaN</td>\n",
       "      <td>NaN</td>\n",
       "      <td>NaN</td>\n",
       "      <td>NaN</td>\n",
       "      <td>NaN</td>\n",
       "      <td>NaN</td>\n",
       "      <td>NaN</td>\n",
       "      <td>NaT</td>\n",
       "    </tr>\n",
       "    <tr>\n",
       "      <th>2</th>\n",
       "      <td>None</td>\n",
       "      <td>None</td>\n",
       "      <td>NaN</td>\n",
       "      <td>NaN</td>\n",
       "      <td>NaN</td>\n",
       "      <td>NaN</td>\n",
       "      <td>NaN</td>\n",
       "      <td>NaN</td>\n",
       "      <td>NaN</td>\n",
       "      <td>NaT</td>\n",
       "    </tr>\n",
       "    <tr>\n",
       "      <th>3</th>\n",
       "      <td>None</td>\n",
       "      <td>None</td>\n",
       "      <td>NaN</td>\n",
       "      <td>NaN</td>\n",
       "      <td>NaN</td>\n",
       "      <td>NaN</td>\n",
       "      <td>NaN</td>\n",
       "      <td>NaN</td>\n",
       "      <td>NaN</td>\n",
       "      <td>NaT</td>\n",
       "    </tr>\n",
       "    <tr>\n",
       "      <th>4</th>\n",
       "      <td>None</td>\n",
       "      <td>None</td>\n",
       "      <td>NaN</td>\n",
       "      <td>NaN</td>\n",
       "      <td>NaN</td>\n",
       "      <td>NaN</td>\n",
       "      <td>NaN</td>\n",
       "      <td>NaN</td>\n",
       "      <td>NaN</td>\n",
       "      <td>NaT</td>\n",
       "    </tr>\n",
       "    <tr>\n",
       "      <th>...</th>\n",
       "      <td>...</td>\n",
       "      <td>...</td>\n",
       "      <td>...</td>\n",
       "      <td>...</td>\n",
       "      <td>...</td>\n",
       "      <td>...</td>\n",
       "      <td>...</td>\n",
       "      <td>...</td>\n",
       "      <td>...</td>\n",
       "      <td>...</td>\n",
       "    </tr>\n",
       "    <tr>\n",
       "      <th>2075254</th>\n",
       "      <td>26/11/2010</td>\n",
       "      <td>20:53:00</td>\n",
       "      <td>0.944</td>\n",
       "      <td>0.0</td>\n",
       "      <td>238.72</td>\n",
       "      <td>4.0</td>\n",
       "      <td>0.0</td>\n",
       "      <td>0.0</td>\n",
       "      <td>0.0</td>\n",
       "      <td>2010-11-26 20:53:00</td>\n",
       "    </tr>\n",
       "    <tr>\n",
       "      <th>2075255</th>\n",
       "      <td>26/11/2010</td>\n",
       "      <td>20:54:00</td>\n",
       "      <td>0.946</td>\n",
       "      <td>0.0</td>\n",
       "      <td>239.31</td>\n",
       "      <td>4.0</td>\n",
       "      <td>0.0</td>\n",
       "      <td>0.0</td>\n",
       "      <td>0.0</td>\n",
       "      <td>2010-11-26 20:54:00</td>\n",
       "    </tr>\n",
       "    <tr>\n",
       "      <th>2075256</th>\n",
       "      <td>26/11/2010</td>\n",
       "      <td>20:55:00</td>\n",
       "      <td>0.946</td>\n",
       "      <td>0.0</td>\n",
       "      <td>239.74</td>\n",
       "      <td>4.0</td>\n",
       "      <td>0.0</td>\n",
       "      <td>0.0</td>\n",
       "      <td>0.0</td>\n",
       "      <td>2010-11-26 20:55:00</td>\n",
       "    </tr>\n",
       "    <tr>\n",
       "      <th>2075257</th>\n",
       "      <td>26/11/2010</td>\n",
       "      <td>20:56:00</td>\n",
       "      <td>0.942</td>\n",
       "      <td>0.0</td>\n",
       "      <td>239.41</td>\n",
       "      <td>4.0</td>\n",
       "      <td>0.0</td>\n",
       "      <td>0.0</td>\n",
       "      <td>0.0</td>\n",
       "      <td>2010-11-26 20:56:00</td>\n",
       "    </tr>\n",
       "    <tr>\n",
       "      <th>2075258</th>\n",
       "      <td>26/11/2010</td>\n",
       "      <td>20:57:00</td>\n",
       "      <td>0.946</td>\n",
       "      <td>0.0</td>\n",
       "      <td>240.33</td>\n",
       "      <td>4.0</td>\n",
       "      <td>0.0</td>\n",
       "      <td>0.0</td>\n",
       "      <td>0.0</td>\n",
       "      <td>2010-11-26 20:57:00</td>\n",
       "    </tr>\n",
       "  </tbody>\n",
       "</table>\n",
       "<p>2075259 rows × 10 columns</p>\n",
       "</div>"
      ],
      "text/plain": [
       "               Date      Time  Global_active_power  Global_reactive_power  \\\n",
       "0              None      None                  NaN                    NaN   \n",
       "1              None      None                  NaN                    NaN   \n",
       "2              None      None                  NaN                    NaN   \n",
       "3              None      None                  NaN                    NaN   \n",
       "4              None      None                  NaN                    NaN   \n",
       "...             ...       ...                  ...                    ...   \n",
       "2075254  26/11/2010  20:53:00                0.944                    0.0   \n",
       "2075255  26/11/2010  20:54:00                0.946                    0.0   \n",
       "2075256  26/11/2010  20:55:00                0.946                    0.0   \n",
       "2075257  26/11/2010  20:56:00                0.942                    0.0   \n",
       "2075258  26/11/2010  20:57:00                0.946                    0.0   \n",
       "\n",
       "         Voltage  Global_intensity  Sub_metering_1  Sub_metering_2  \\\n",
       "0            NaN               NaN             NaN             NaN   \n",
       "1            NaN               NaN             NaN             NaN   \n",
       "2            NaN               NaN             NaN             NaN   \n",
       "3            NaN               NaN             NaN             NaN   \n",
       "4            NaN               NaN             NaN             NaN   \n",
       "...          ...               ...             ...             ...   \n",
       "2075254   238.72               4.0             0.0             0.0   \n",
       "2075255   239.31               4.0             0.0             0.0   \n",
       "2075256   239.74               4.0             0.0             0.0   \n",
       "2075257   239.41               4.0             0.0             0.0   \n",
       "2075258   240.33               4.0             0.0             0.0   \n",
       "\n",
       "         Sub_metering_3            datetime  \n",
       "0                   NaN                 NaT  \n",
       "1                   NaN                 NaT  \n",
       "2                   NaN                 NaT  \n",
       "3                   NaN                 NaT  \n",
       "4                   NaN                 NaT  \n",
       "...                 ...                 ...  \n",
       "2075254             0.0 2010-11-26 20:53:00  \n",
       "2075255             0.0 2010-11-26 20:54:00  \n",
       "2075256             0.0 2010-11-26 20:55:00  \n",
       "2075257             0.0 2010-11-26 20:56:00  \n",
       "2075258             0.0 2010-11-26 20:57:00  \n",
       "\n",
       "[2075259 rows x 10 columns]"
      ]
     },
     "execution_count": 14,
     "metadata": {},
     "output_type": "execute_result"
    }
   ],
   "source": [
    "df_final"
   ]
  },
  {
   "cell_type": "code",
   "execution_count": 103,
   "metadata": {
    "executionInfo": {
     "elapsed": 15,
     "status": "ok",
     "timestamp": 1742598806620,
     "user": {
      "displayName": "Jorge del Castillo Gómez",
      "userId": "03598089572284782268"
     },
     "user_tz": -60
    },
    "id": "rvebCPzEimt6"
   },
   "outputs": [],
   "source": [
    "# Split timeserie into samples\n",
    "def split_sequence(df, sequence_len, n_steps_out, future_steps, stride = None):\n",
    "\n",
    "  new_rows = []\n",
    "  columns = df.columns\n",
    "\n",
    "  if stride is  None:\n",
    "    stride = 1\n",
    "\n",
    "  X, y = list(), list()\n",
    "  for i in range(0, len(df), stride):\n",
    "    end_ix = i + sequence_len\n",
    "\n",
    "    out_start_ix = end_ix + future_steps\n",
    "    out_end_ix = out_start_ix + n_steps_out\n",
    "\n",
    "    if out_end_ix > len(df):\n",
    "      break\n",
    "\n",
    "    seq_x, seq_y = df[i:end_ix], df[out_start_ix:out_end_ix]\n",
    "\n",
    "    new_row = {}\n",
    "\n",
    "    for col in columns:\n",
    "      for j in range(sequence_len):\n",
    "          new_row[f'{col}_{j+1}'] = seq_x.iloc[j][col]\n",
    "\n",
    "    for col in df.columns:\n",
    "            new_row[f'{col}_y'] = seq_y.iloc[-1][col]\n",
    "\n",
    "    print(f\"row {i}\")\n",
    "    new_rows.append(new_row)\n",
    "\n",
    "  new_df = pd.DataFrame(new_rows)\n",
    "\n",
    "\n",
    "  return new_df\n"
   ]
  },
  {
   "cell_type": "code",
   "execution_count": null,
   "metadata": {
    "colab": {
     "base_uri": "https://localhost:8080/",
     "height": 1000
    },
    "executionInfo": {
     "elapsed": 30671,
     "status": "error",
     "timestamp": 1742598897340,
     "user": {
      "displayName": "Jorge del Castillo Gómez",
      "userId": "03598089572284782268"
     },
     "user_tz": -60
    },
    "id": "3pahITSomNGQ",
    "outputId": "b7c941f7-2315-4627-b68b-ccd2b9046335"
   },
   "outputs": [],
   "source": [
    "prepared_df = split_sequence(df_final, 5, 1, 1, 1)"
   ]
  },
  {
   "cell_type": "code",
   "execution_count": null,
   "metadata": {
    "colab": {
     "base_uri": "https://localhost:8080/",
     "height": 1000
    },
    "executionInfo": {
     "elapsed": 30658,
     "status": "error",
     "timestamp": 1742598864143,
     "user": {
      "displayName": "Jorge del Castillo Gómez",
      "userId": "03598089572284782268"
     },
     "user_tz": -60
    },
    "id": "T6ETeWHd-xSo",
    "outputId": "3f727b5d-acfc-41ac-e8c6-717389e5aa0f"
   },
   "outputs": [
    {
     "name": "stdout",
     "output_type": "stream",
     "text": [
      "Guardado: output_part_1.csv\n",
      "Guardado: output_part_2.csv\n",
      "Guardado: output_part_3.csv\n",
      "Guardado: output_part_4.csv\n",
      "Guardado: output_part_5.csv\n",
      "Guardado: output_part_6.csv\n",
      "Guardado: output_part_7.csv\n",
      "Guardado: output_part_8.csv\n",
      "Guardado: output_part_9.csv\n",
      "Guardado: output_part_10.csv\n",
      "Guardado: output_part_11.csv\n",
      "Guardado: output_part_12.csv\n",
      "Guardado: output_part_13.csv\n",
      "Guardado: output_part_14.csv\n",
      "Guardado: output_part_15.csv\n",
      "Guardado: output_part_16.csv\n",
      "Guardado: output_part_17.csv\n",
      "Guardado: output_part_18.csv\n",
      "Guardado: output_part_19.csv\n",
      "Guardado: output_part_20.csv\n",
      "Guardado: output_part_21.csv\n",
      "Proceso completado\n"
     ]
    }
   ],
   "source": [
    "import pandas as pd\n",
    "import numpy as np\n",
    "\n",
    "def split_sequence(df, sequence_len, n_steps_out, future_steps, stride=None, save_every=100_000, output_prefix=\"output_part\"):\n",
    "\n",
    "    if stride is None:\n",
    "        stride = 1\n",
    "\n",
    "\n",
    "    new_rows = []\n",
    "    columns = df.columns\n",
    "    file_count = 1\n",
    "\n",
    "\n",
    "    for i in range(0, len(df) - sequence_len - future_steps - n_steps_out + 1, stride):\n",
    "        end_ix = i + sequence_len\n",
    "        out_start_ix = end_ix + future_steps\n",
    "        out_end_ix = out_start_ix + n_steps_out\n",
    "\n",
    "        if out_end_ix > len(df):\n",
    "            break\n",
    "\n",
    "\n",
    "        seq_x = df.iloc[i:end_ix]\n",
    "        seq_y = df.iloc[out_start_ix:out_end_ix]\n",
    "\n",
    "\n",
    "        new_row = {}\n",
    "\n",
    "        for col in columns:\n",
    "            for j in range(sequence_len):\n",
    "                new_row[f'{col}_{j+1}'] = seq_x.iloc[j][col]\n",
    "\n",
    "\n",
    "        for col in columns:\n",
    "            new_row[f'{col}_y'] = seq_y.iloc[-1][col]\n",
    "\n",
    "        new_rows.append(new_row)\n",
    "\n",
    "        # Guardamos cada 100,000 filas\n",
    "        if len(new_rows) >= save_every:\n",
    "            chunk_df = pd.DataFrame(new_rows)\n",
    "            chunk_filename = f\"{output_prefix}_{file_count}.csv\"\n",
    "            chunk_df.to_csv(chunk_filename, index=False)\n",
    "            print(f\"Guardado: {chunk_filename}\")\n",
    "            file_count += 1\n",
    "            new_rows = []  # Reiniciamos la lista para la siguiente tanda\n",
    "\n",
    "    if len(new_rows) > 0:\n",
    "        chunk_df = pd.DataFrame(new_rows)\n",
    "        chunk_filename = f\"{output_prefix}_{file_count}.csv\"\n",
    "        chunk_df.to_csv(chunk_filename, index=False)\n",
    "        print(f\"Guardado: {chunk_filename}\")\n",
    "\n",
    "    print(\"Proceso completado\")\n",
    "\n",
    "new_df = split_sequence(df, sequence_len=5, n_steps_out=1, future_steps=1)\n"
   ]
  },
  {
   "cell_type": "code",
   "execution_count": null,
   "metadata": {},
   "outputs": [
    {
     "name": "stdout",
     "output_type": "stream",
     "text": [
      "Archivo combinado guardado como 'output_combined.csv'\n"
     ]
    }
   ],
   "source": [
    "file_names = [f\"output_part_{i}.csv\" for i in range(1, 22)]\n",
    "combined_csv = pd.concat([pd.read_csv(file) for file in file_names])\n",
    "combined_csv.to_csv(\"output_combined.csv\", index=False)\n",
    "\n",
    "print(\"Archivo combinado guardado como 'output_combined.csv'\")\n"
   ]
  }
 ],
 "metadata": {
  "colab": {
   "collapsed_sections": [
    "wOBW4fOZ0AJl",
    "Kd72wDYMz1-1",
    "Dpp_ZJR7ruSw",
    "oRHmrfcPt1n4"
   ],
   "provenance": []
  },
  "kernelspec": {
   "display_name": "base",
   "language": "python",
   "name": "python3"
  },
  "language_info": {
   "codemirror_mode": {
    "name": "ipython",
    "version": 3
   },
   "file_extension": ".py",
   "mimetype": "text/x-python",
   "name": "python",
   "nbconvert_exporter": "python",
   "pygments_lexer": "ipython3",
   "version": "3.12.3"
  },
  "widgets": {
   "application/vnd.jupyter.widget-state+json": {
    "049125d2dd8d41e58b62db809d5662fc": {
     "model_module": "@jupyter-widgets/controls",
     "model_module_version": "1.5.0",
     "model_name": "FloatProgressModel",
     "state": {
      "_dom_classes": [],
      "_model_module": "@jupyter-widgets/controls",
      "_model_module_version": "1.5.0",
      "_model_name": "FloatProgressModel",
      "_view_count": null,
      "_view_module": "@jupyter-widgets/controls",
      "_view_module_version": "1.5.0",
      "_view_name": "ProgressView",
      "bar_style": "success",
      "description": "",
      "description_tooltip": null,
      "layout": "IPY_MODEL_b23d4e16ac854975aeae692cf252e7ca",
      "max": 5,
      "min": 0,
      "orientation": "horizontal",
      "style": "IPY_MODEL_549ec4ef7ec5481a822183fb507cc50b",
      "value": 5
     }
    },
    "052d69e6267d4479905014ec01d922b6": {
     "model_module": "@jupyter-widgets/controls",
     "model_module_version": "1.5.0",
     "model_name": "ProgressStyleModel",
     "state": {
      "_model_module": "@jupyter-widgets/controls",
      "_model_module_version": "1.5.0",
      "_model_name": "ProgressStyleModel",
      "_view_count": null,
      "_view_module": "@jupyter-widgets/base",
      "_view_module_version": "1.2.0",
      "_view_name": "StyleView",
      "bar_color": null,
      "description_width": ""
     }
    },
    "0bd8815b82aa423094451c614e6e10c5": {
     "model_module": "@jupyter-widgets/controls",
     "model_module_version": "1.5.0",
     "model_name": "HTMLModel",
     "state": {
      "_dom_classes": [],
      "_model_module": "@jupyter-widgets/controls",
      "_model_module_version": "1.5.0",
      "_model_name": "HTMLModel",
      "_view_count": null,
      "_view_module": "@jupyter-widgets/controls",
      "_view_module_version": "1.5.0",
      "_view_name": "HTMLView",
      "description": "",
      "description_tooltip": null,
      "layout": "IPY_MODEL_f138663be56f4bdf9082c066955653c7",
      "placeholder": "​",
      "style": "IPY_MODEL_52f340a96e7e4e55aad8481bef22a58a",
      "value": "Generate report structure: 100%"
     }
    },
    "1191e289a6bb4e0fa086a999c6e4288f": {
     "model_module": "@jupyter-widgets/controls",
     "model_module_version": "1.5.0",
     "model_name": "HTMLModel",
     "state": {
      "_dom_classes": [],
      "_model_module": "@jupyter-widgets/controls",
      "_model_module_version": "1.5.0",
      "_model_name": "HTMLModel",
      "_view_count": null,
      "_view_module": "@jupyter-widgets/controls",
      "_view_module_version": "1.5.0",
      "_view_name": "HTMLView",
      "description": "",
      "description_tooltip": null,
      "layout": "IPY_MODEL_fdcfbeb6dbcb4b7f9d413135cdaa623a",
      "placeholder": "​",
      "style": "IPY_MODEL_73ea9d7dc31746558ef58c9a0d71b7e3",
      "value": "Summarize dataset: 100%"
     }
    },
    "13194233d4e943c7be4bd768536333ce": {
     "model_module": "@jupyter-widgets/base",
     "model_module_version": "1.2.0",
     "model_name": "LayoutModel",
     "state": {
      "_model_module": "@jupyter-widgets/base",
      "_model_module_version": "1.2.0",
      "_model_name": "LayoutModel",
      "_view_count": null,
      "_view_module": "@jupyter-widgets/base",
      "_view_module_version": "1.2.0",
      "_view_name": "LayoutView",
      "align_content": null,
      "align_items": null,
      "align_self": null,
      "border": null,
      "bottom": null,
      "display": null,
      "flex": null,
      "flex_flow": null,
      "grid_area": null,
      "grid_auto_columns": null,
      "grid_auto_flow": null,
      "grid_auto_rows": null,
      "grid_column": null,
      "grid_gap": null,
      "grid_row": null,
      "grid_template_areas": null,
      "grid_template_columns": null,
      "grid_template_rows": null,
      "height": null,
      "justify_content": null,
      "justify_items": null,
      "left": null,
      "margin": null,
      "max_height": null,
      "max_width": null,
      "min_height": null,
      "min_width": null,
      "object_fit": null,
      "object_position": null,
      "order": null,
      "overflow": null,
      "overflow_x": null,
      "overflow_y": null,
      "padding": null,
      "right": null,
      "top": null,
      "visibility": null,
      "width": null
     }
    },
    "1a19dbd4bf144ce0a8f623d6f2d1c6fd": {
     "model_module": "@jupyter-widgets/base",
     "model_module_version": "1.2.0",
     "model_name": "LayoutModel",
     "state": {
      "_model_module": "@jupyter-widgets/base",
      "_model_module_version": "1.2.0",
      "_model_name": "LayoutModel",
      "_view_count": null,
      "_view_module": "@jupyter-widgets/base",
      "_view_module_version": "1.2.0",
      "_view_name": "LayoutView",
      "align_content": null,
      "align_items": null,
      "align_self": null,
      "border": null,
      "bottom": null,
      "display": null,
      "flex": null,
      "flex_flow": null,
      "grid_area": null,
      "grid_auto_columns": null,
      "grid_auto_flow": null,
      "grid_auto_rows": null,
      "grid_column": null,
      "grid_gap": null,
      "grid_row": null,
      "grid_template_areas": null,
      "grid_template_columns": null,
      "grid_template_rows": null,
      "height": null,
      "justify_content": null,
      "justify_items": null,
      "left": null,
      "margin": null,
      "max_height": null,
      "max_width": null,
      "min_height": null,
      "min_width": null,
      "object_fit": null,
      "object_position": null,
      "order": null,
      "overflow": null,
      "overflow_x": null,
      "overflow_y": null,
      "padding": null,
      "right": null,
      "top": null,
      "visibility": null,
      "width": null
     }
    },
    "23f2e517ceac402f94bd0fa9cbd80dae": {
     "model_module": "@jupyter-widgets/base",
     "model_module_version": "1.2.0",
     "model_name": "LayoutModel",
     "state": {
      "_model_module": "@jupyter-widgets/base",
      "_model_module_version": "1.2.0",
      "_model_name": "LayoutModel",
      "_view_count": null,
      "_view_module": "@jupyter-widgets/base",
      "_view_module_version": "1.2.0",
      "_view_name": "LayoutView",
      "align_content": null,
      "align_items": null,
      "align_self": null,
      "border": null,
      "bottom": null,
      "display": null,
      "flex": null,
      "flex_flow": null,
      "grid_area": null,
      "grid_auto_columns": null,
      "grid_auto_flow": null,
      "grid_auto_rows": null,
      "grid_column": null,
      "grid_gap": null,
      "grid_row": null,
      "grid_template_areas": null,
      "grid_template_columns": null,
      "grid_template_rows": null,
      "height": null,
      "justify_content": null,
      "justify_items": null,
      "left": null,
      "margin": null,
      "max_height": null,
      "max_width": null,
      "min_height": null,
      "min_width": null,
      "object_fit": null,
      "object_position": null,
      "order": null,
      "overflow": null,
      "overflow_x": null,
      "overflow_y": null,
      "padding": null,
      "right": null,
      "top": null,
      "visibility": null,
      "width": null
     }
    },
    "2b826d2b822f4520bae56bf462fdab16": {
     "model_module": "@jupyter-widgets/controls",
     "model_module_version": "1.5.0",
     "model_name": "DescriptionStyleModel",
     "state": {
      "_model_module": "@jupyter-widgets/controls",
      "_model_module_version": "1.5.0",
      "_model_name": "DescriptionStyleModel",
      "_view_count": null,
      "_view_module": "@jupyter-widgets/base",
      "_view_module_version": "1.2.0",
      "_view_name": "StyleView",
      "description_width": ""
     }
    },
    "2d8261a14d244773a60ae9e623fdaee0": {
     "model_module": "@jupyter-widgets/base",
     "model_module_version": "1.2.0",
     "model_name": "LayoutModel",
     "state": {
      "_model_module": "@jupyter-widgets/base",
      "_model_module_version": "1.2.0",
      "_model_name": "LayoutModel",
      "_view_count": null,
      "_view_module": "@jupyter-widgets/base",
      "_view_module_version": "1.2.0",
      "_view_name": "LayoutView",
      "align_content": null,
      "align_items": null,
      "align_self": null,
      "border": null,
      "bottom": null,
      "display": null,
      "flex": null,
      "flex_flow": null,
      "grid_area": null,
      "grid_auto_columns": null,
      "grid_auto_flow": null,
      "grid_auto_rows": null,
      "grid_column": null,
      "grid_gap": null,
      "grid_row": null,
      "grid_template_areas": null,
      "grid_template_columns": null,
      "grid_template_rows": null,
      "height": null,
      "justify_content": null,
      "justify_items": null,
      "left": null,
      "margin": null,
      "max_height": null,
      "max_width": null,
      "min_height": null,
      "min_width": null,
      "object_fit": null,
      "object_position": null,
      "order": null,
      "overflow": null,
      "overflow_x": null,
      "overflow_y": null,
      "padding": null,
      "right": null,
      "top": null,
      "visibility": null,
      "width": null
     }
    },
    "2f8ec7eaec8e462eb1c6caaf3406091e": {
     "model_module": "@jupyter-widgets/base",
     "model_module_version": "1.2.0",
     "model_name": "LayoutModel",
     "state": {
      "_model_module": "@jupyter-widgets/base",
      "_model_module_version": "1.2.0",
      "_model_name": "LayoutModel",
      "_view_count": null,
      "_view_module": "@jupyter-widgets/base",
      "_view_module_version": "1.2.0",
      "_view_name": "LayoutView",
      "align_content": null,
      "align_items": null,
      "align_self": null,
      "border": null,
      "bottom": null,
      "display": null,
      "flex": null,
      "flex_flow": null,
      "grid_area": null,
      "grid_auto_columns": null,
      "grid_auto_flow": null,
      "grid_auto_rows": null,
      "grid_column": null,
      "grid_gap": null,
      "grid_row": null,
      "grid_template_areas": null,
      "grid_template_columns": null,
      "grid_template_rows": null,
      "height": null,
      "justify_content": null,
      "justify_items": null,
      "left": null,
      "margin": null,
      "max_height": null,
      "max_width": null,
      "min_height": null,
      "min_width": null,
      "object_fit": null,
      "object_position": null,
      "order": null,
      "overflow": null,
      "overflow_x": null,
      "overflow_y": null,
      "padding": null,
      "right": null,
      "top": null,
      "visibility": null,
      "width": null
     }
    },
    "391c2d6d1f984dcd9329bfc57941d8f1": {
     "model_module": "@jupyter-widgets/controls",
     "model_module_version": "1.5.0",
     "model_name": "DescriptionStyleModel",
     "state": {
      "_model_module": "@jupyter-widgets/controls",
      "_model_module_version": "1.5.0",
      "_model_name": "DescriptionStyleModel",
      "_view_count": null,
      "_view_module": "@jupyter-widgets/base",
      "_view_module_version": "1.2.0",
      "_view_name": "StyleView",
      "description_width": ""
     }
    },
    "3c005c2b52134e1eb1f721215a34819a": {
     "model_module": "@jupyter-widgets/controls",
     "model_module_version": "1.5.0",
     "model_name": "DescriptionStyleModel",
     "state": {
      "_model_module": "@jupyter-widgets/controls",
      "_model_module_version": "1.5.0",
      "_model_name": "DescriptionStyleModel",
      "_view_count": null,
      "_view_module": "@jupyter-widgets/base",
      "_view_module_version": "1.2.0",
      "_view_name": "StyleView",
      "description_width": ""
     }
    },
    "4a64d6be24de479abeb97bc19e4b3c14": {
     "model_module": "@jupyter-widgets/base",
     "model_module_version": "1.2.0",
     "model_name": "LayoutModel",
     "state": {
      "_model_module": "@jupyter-widgets/base",
      "_model_module_version": "1.2.0",
      "_model_name": "LayoutModel",
      "_view_count": null,
      "_view_module": "@jupyter-widgets/base",
      "_view_module_version": "1.2.0",
      "_view_name": "LayoutView",
      "align_content": null,
      "align_items": null,
      "align_self": null,
      "border": null,
      "bottom": null,
      "display": null,
      "flex": null,
      "flex_flow": null,
      "grid_area": null,
      "grid_auto_columns": null,
      "grid_auto_flow": null,
      "grid_auto_rows": null,
      "grid_column": null,
      "grid_gap": null,
      "grid_row": null,
      "grid_template_areas": null,
      "grid_template_columns": null,
      "grid_template_rows": null,
      "height": null,
      "justify_content": null,
      "justify_items": null,
      "left": null,
      "margin": null,
      "max_height": null,
      "max_width": null,
      "min_height": null,
      "min_width": null,
      "object_fit": null,
      "object_position": null,
      "order": null,
      "overflow": null,
      "overflow_x": null,
      "overflow_y": null,
      "padding": null,
      "right": null,
      "top": null,
      "visibility": null,
      "width": null
     }
    },
    "4a890fc4d59c455cb66c2bc998ce5ff1": {
     "model_module": "@jupyter-widgets/controls",
     "model_module_version": "1.5.0",
     "model_name": "FloatProgressModel",
     "state": {
      "_dom_classes": [],
      "_model_module": "@jupyter-widgets/controls",
      "_model_module_version": "1.5.0",
      "_model_name": "FloatProgressModel",
      "_view_count": null,
      "_view_module": "@jupyter-widgets/controls",
      "_view_module_version": "1.5.0",
      "_view_name": "ProgressView",
      "bar_style": "success",
      "description": "",
      "description_tooltip": null,
      "layout": "IPY_MODEL_2f8ec7eaec8e462eb1c6caaf3406091e",
      "max": 1,
      "min": 0,
      "orientation": "horizontal",
      "style": "IPY_MODEL_052d69e6267d4479905014ec01d922b6",
      "value": 1
     }
    },
    "4c24b7cac4f548db9da734909bbfe024": {
     "model_module": "@jupyter-widgets/controls",
     "model_module_version": "1.5.0",
     "model_name": "HTMLModel",
     "state": {
      "_dom_classes": [],
      "_model_module": "@jupyter-widgets/controls",
      "_model_module_version": "1.5.0",
      "_model_name": "HTMLModel",
      "_view_count": null,
      "_view_module": "@jupyter-widgets/controls",
      "_view_module_version": "1.5.0",
      "_view_name": "HTMLView",
      "description": "",
      "description_tooltip": null,
      "layout": "IPY_MODEL_4a64d6be24de479abeb97bc19e4b3c14",
      "placeholder": "​",
      "style": "IPY_MODEL_6ab9ced09ea940ff8219c1efdea6615d",
      "value": "Export report to file: 100%"
     }
    },
    "52f340a96e7e4e55aad8481bef22a58a": {
     "model_module": "@jupyter-widgets/controls",
     "model_module_version": "1.5.0",
     "model_name": "DescriptionStyleModel",
     "state": {
      "_model_module": "@jupyter-widgets/controls",
      "_model_module_version": "1.5.0",
      "_model_name": "DescriptionStyleModel",
      "_view_count": null,
      "_view_module": "@jupyter-widgets/base",
      "_view_module_version": "1.2.0",
      "_view_name": "StyleView",
      "description_width": ""
     }
    },
    "549ec4ef7ec5481a822183fb507cc50b": {
     "model_module": "@jupyter-widgets/controls",
     "model_module_version": "1.5.0",
     "model_name": "ProgressStyleModel",
     "state": {
      "_model_module": "@jupyter-widgets/controls",
      "_model_module_version": "1.5.0",
      "_model_name": "ProgressStyleModel",
      "_view_count": null,
      "_view_module": "@jupyter-widgets/base",
      "_view_module_version": "1.2.0",
      "_view_name": "StyleView",
      "bar_color": null,
      "description_width": ""
     }
    },
    "62a07c3a43c44dac8286dea25a9fec72": {
     "model_module": "@jupyter-widgets/controls",
     "model_module_version": "1.5.0",
     "model_name": "DescriptionStyleModel",
     "state": {
      "_model_module": "@jupyter-widgets/controls",
      "_model_module_version": "1.5.0",
      "_model_name": "DescriptionStyleModel",
      "_view_count": null,
      "_view_module": "@jupyter-widgets/base",
      "_view_module_version": "1.2.0",
      "_view_name": "StyleView",
      "description_width": ""
     }
    },
    "6ab9ced09ea940ff8219c1efdea6615d": {
     "model_module": "@jupyter-widgets/controls",
     "model_module_version": "1.5.0",
     "model_name": "DescriptionStyleModel",
     "state": {
      "_model_module": "@jupyter-widgets/controls",
      "_model_module_version": "1.5.0",
      "_model_name": "DescriptionStyleModel",
      "_view_count": null,
      "_view_module": "@jupyter-widgets/base",
      "_view_module_version": "1.2.0",
      "_view_name": "StyleView",
      "description_width": ""
     }
    },
    "6edc08d092a34088bd44e28f2f5f0ec7": {
     "model_module": "@jupyter-widgets/controls",
     "model_module_version": "1.5.0",
     "model_name": "HBoxModel",
     "state": {
      "_dom_classes": [],
      "_model_module": "@jupyter-widgets/controls",
      "_model_module_version": "1.5.0",
      "_model_name": "HBoxModel",
      "_view_count": null,
      "_view_module": "@jupyter-widgets/controls",
      "_view_module_version": "1.5.0",
      "_view_name": "HBoxView",
      "box_style": "",
      "children": [
       "IPY_MODEL_4c24b7cac4f548db9da734909bbfe024",
       "IPY_MODEL_f615b8e6584542fd8accb6f1bc5adf1d",
       "IPY_MODEL_b73b2bd4f9944052b31354499879124d"
      ],
      "layout": "IPY_MODEL_799b9dad97984b569c11a2b354081a8a"
     }
    },
    "6f2e15e4542f466ca0c90f2ed6b4c1ec": {
     "model_module": "@jupyter-widgets/controls",
     "model_module_version": "1.5.0",
     "model_name": "DescriptionStyleModel",
     "state": {
      "_model_module": "@jupyter-widgets/controls",
      "_model_module_version": "1.5.0",
      "_model_name": "DescriptionStyleModel",
      "_view_count": null,
      "_view_module": "@jupyter-widgets/base",
      "_view_module_version": "1.2.0",
      "_view_name": "StyleView",
      "description_width": ""
     }
    },
    "73ea9d7dc31746558ef58c9a0d71b7e3": {
     "model_module": "@jupyter-widgets/controls",
     "model_module_version": "1.5.0",
     "model_name": "DescriptionStyleModel",
     "state": {
      "_model_module": "@jupyter-widgets/controls",
      "_model_module_version": "1.5.0",
      "_model_name": "DescriptionStyleModel",
      "_view_count": null,
      "_view_module": "@jupyter-widgets/base",
      "_view_module_version": "1.2.0",
      "_view_name": "StyleView",
      "description_width": ""
     }
    },
    "76072ff8299f4e1890c7c2b56a5e01bf": {
     "model_module": "@jupyter-widgets/base",
     "model_module_version": "1.2.0",
     "model_name": "LayoutModel",
     "state": {
      "_model_module": "@jupyter-widgets/base",
      "_model_module_version": "1.2.0",
      "_model_name": "LayoutModel",
      "_view_count": null,
      "_view_module": "@jupyter-widgets/base",
      "_view_module_version": "1.2.0",
      "_view_name": "LayoutView",
      "align_content": null,
      "align_items": null,
      "align_self": null,
      "border": null,
      "bottom": null,
      "display": null,
      "flex": null,
      "flex_flow": null,
      "grid_area": null,
      "grid_auto_columns": null,
      "grid_auto_flow": null,
      "grid_auto_rows": null,
      "grid_column": null,
      "grid_gap": null,
      "grid_row": null,
      "grid_template_areas": null,
      "grid_template_columns": null,
      "grid_template_rows": null,
      "height": null,
      "justify_content": null,
      "justify_items": null,
      "left": null,
      "margin": null,
      "max_height": null,
      "max_width": null,
      "min_height": null,
      "min_width": null,
      "object_fit": null,
      "object_position": null,
      "order": null,
      "overflow": null,
      "overflow_x": null,
      "overflow_y": null,
      "padding": null,
      "right": null,
      "top": null,
      "visibility": null,
      "width": null
     }
    },
    "799b9dad97984b569c11a2b354081a8a": {
     "model_module": "@jupyter-widgets/base",
     "model_module_version": "1.2.0",
     "model_name": "LayoutModel",
     "state": {
      "_model_module": "@jupyter-widgets/base",
      "_model_module_version": "1.2.0",
      "_model_name": "LayoutModel",
      "_view_count": null,
      "_view_module": "@jupyter-widgets/base",
      "_view_module_version": "1.2.0",
      "_view_name": "LayoutView",
      "align_content": null,
      "align_items": null,
      "align_self": null,
      "border": null,
      "bottom": null,
      "display": null,
      "flex": null,
      "flex_flow": null,
      "grid_area": null,
      "grid_auto_columns": null,
      "grid_auto_flow": null,
      "grid_auto_rows": null,
      "grid_column": null,
      "grid_gap": null,
      "grid_row": null,
      "grid_template_areas": null,
      "grid_template_columns": null,
      "grid_template_rows": null,
      "height": null,
      "justify_content": null,
      "justify_items": null,
      "left": null,
      "margin": null,
      "max_height": null,
      "max_width": null,
      "min_height": null,
      "min_width": null,
      "object_fit": null,
      "object_position": null,
      "order": null,
      "overflow": null,
      "overflow_x": null,
      "overflow_y": null,
      "padding": null,
      "right": null,
      "top": null,
      "visibility": null,
      "width": null
     }
    },
    "802bae589935400b9b6f6aea11e2a512": {
     "model_module": "@jupyter-widgets/controls",
     "model_module_version": "1.5.0",
     "model_name": "HBoxModel",
     "state": {
      "_dom_classes": [],
      "_model_module": "@jupyter-widgets/controls",
      "_model_module_version": "1.5.0",
      "_model_name": "HBoxModel",
      "_view_count": null,
      "_view_module": "@jupyter-widgets/controls",
      "_view_module_version": "1.5.0",
      "_view_name": "HBoxView",
      "box_style": "",
      "children": [
       "IPY_MODEL_1191e289a6bb4e0fa086a999c6e4288f",
       "IPY_MODEL_049125d2dd8d41e58b62db809d5662fc",
       "IPY_MODEL_fc2094676a974cfa91ec4f15cb4feeca"
      ],
      "layout": "IPY_MODEL_c3cd9b3b951848e49931990ad3fa4131"
     }
    },
    "8e27c56cf06a4790ab98c1c788ac98a2": {
     "model_module": "@jupyter-widgets/base",
     "model_module_version": "1.2.0",
     "model_name": "LayoutModel",
     "state": {
      "_model_module": "@jupyter-widgets/base",
      "_model_module_version": "1.2.0",
      "_model_name": "LayoutModel",
      "_view_count": null,
      "_view_module": "@jupyter-widgets/base",
      "_view_module_version": "1.2.0",
      "_view_name": "LayoutView",
      "align_content": null,
      "align_items": null,
      "align_self": null,
      "border": null,
      "bottom": null,
      "display": null,
      "flex": null,
      "flex_flow": null,
      "grid_area": null,
      "grid_auto_columns": null,
      "grid_auto_flow": null,
      "grid_auto_rows": null,
      "grid_column": null,
      "grid_gap": null,
      "grid_row": null,
      "grid_template_areas": null,
      "grid_template_columns": null,
      "grid_template_rows": null,
      "height": null,
      "justify_content": null,
      "justify_items": null,
      "left": null,
      "margin": null,
      "max_height": null,
      "max_width": null,
      "min_height": null,
      "min_width": null,
      "object_fit": null,
      "object_position": null,
      "order": null,
      "overflow": null,
      "overflow_x": null,
      "overflow_y": null,
      "padding": null,
      "right": null,
      "top": null,
      "visibility": null,
      "width": null
     }
    },
    "9abf1efb0b654a7983bb3cf50dda4135": {
     "model_module": "@jupyter-widgets/controls",
     "model_module_version": "1.5.0",
     "model_name": "HBoxModel",
     "state": {
      "_dom_classes": [],
      "_model_module": "@jupyter-widgets/controls",
      "_model_module_version": "1.5.0",
      "_model_name": "HBoxModel",
      "_view_count": null,
      "_view_module": "@jupyter-widgets/controls",
      "_view_module_version": "1.5.0",
      "_view_name": "HBoxView",
      "box_style": "",
      "children": [
       "IPY_MODEL_d5883888c386445d8c5eb280bd225219",
       "IPY_MODEL_4a890fc4d59c455cb66c2bc998ce5ff1",
       "IPY_MODEL_e7fa0be3094a4c2684c562adae088804"
      ],
      "layout": "IPY_MODEL_1a19dbd4bf144ce0a8f623d6f2d1c6fd"
     }
    },
    "a04c9971fcad43639564016eaa245a19": {
     "model_module": "@jupyter-widgets/controls",
     "model_module_version": "1.5.0",
     "model_name": "FloatProgressModel",
     "state": {
      "_dom_classes": [],
      "_model_module": "@jupyter-widgets/controls",
      "_model_module_version": "1.5.0",
      "_model_name": "FloatProgressModel",
      "_view_count": null,
      "_view_module": "@jupyter-widgets/controls",
      "_view_module_version": "1.5.0",
      "_view_name": "ProgressView",
      "bar_style": "success",
      "description": "",
      "description_tooltip": null,
      "layout": "IPY_MODEL_ea96f734fc264f77bb558effc446048e",
      "max": 1,
      "min": 0,
      "orientation": "horizontal",
      "style": "IPY_MODEL_a8dc9b4a1cd64f8785015b2e63ed58c2",
      "value": 1
     }
    },
    "a0c6eb2800b04240a234bc2f654d2648": {
     "model_module": "@jupyter-widgets/controls",
     "model_module_version": "1.5.0",
     "model_name": "HTMLModel",
     "state": {
      "_dom_classes": [],
      "_model_module": "@jupyter-widgets/controls",
      "_model_module_version": "1.5.0",
      "_model_name": "HTMLModel",
      "_view_count": null,
      "_view_module": "@jupyter-widgets/controls",
      "_view_module_version": "1.5.0",
      "_view_name": "HTMLView",
      "description": "",
      "description_tooltip": null,
      "layout": "IPY_MODEL_13194233d4e943c7be4bd768536333ce",
      "placeholder": "​",
      "style": "IPY_MODEL_62a07c3a43c44dac8286dea25a9fec72",
      "value": " 1/1 [00:01&lt;00:00,  1.89s/it]"
     }
    },
    "a8dc9b4a1cd64f8785015b2e63ed58c2": {
     "model_module": "@jupyter-widgets/controls",
     "model_module_version": "1.5.0",
     "model_name": "ProgressStyleModel",
     "state": {
      "_model_module": "@jupyter-widgets/controls",
      "_model_module_version": "1.5.0",
      "_model_name": "ProgressStyleModel",
      "_view_count": null,
      "_view_module": "@jupyter-widgets/base",
      "_view_module_version": "1.2.0",
      "_view_name": "StyleView",
      "bar_color": null,
      "description_width": ""
     }
    },
    "ab4580c9110b4bcfacfa21c9583e933b": {
     "model_module": "@jupyter-widgets/base",
     "model_module_version": "1.2.0",
     "model_name": "LayoutModel",
     "state": {
      "_model_module": "@jupyter-widgets/base",
      "_model_module_version": "1.2.0",
      "_model_name": "LayoutModel",
      "_view_count": null,
      "_view_module": "@jupyter-widgets/base",
      "_view_module_version": "1.2.0",
      "_view_name": "LayoutView",
      "align_content": null,
      "align_items": null,
      "align_self": null,
      "border": null,
      "bottom": null,
      "display": null,
      "flex": null,
      "flex_flow": null,
      "grid_area": null,
      "grid_auto_columns": null,
      "grid_auto_flow": null,
      "grid_auto_rows": null,
      "grid_column": null,
      "grid_gap": null,
      "grid_row": null,
      "grid_template_areas": null,
      "grid_template_columns": null,
      "grid_template_rows": null,
      "height": null,
      "justify_content": null,
      "justify_items": null,
      "left": null,
      "margin": null,
      "max_height": null,
      "max_width": null,
      "min_height": null,
      "min_width": null,
      "object_fit": null,
      "object_position": null,
      "order": null,
      "overflow": null,
      "overflow_x": null,
      "overflow_y": null,
      "padding": null,
      "right": null,
      "top": null,
      "visibility": null,
      "width": null
     }
    },
    "b23d4e16ac854975aeae692cf252e7ca": {
     "model_module": "@jupyter-widgets/base",
     "model_module_version": "1.2.0",
     "model_name": "LayoutModel",
     "state": {
      "_model_module": "@jupyter-widgets/base",
      "_model_module_version": "1.2.0",
      "_model_name": "LayoutModel",
      "_view_count": null,
      "_view_module": "@jupyter-widgets/base",
      "_view_module_version": "1.2.0",
      "_view_name": "LayoutView",
      "align_content": null,
      "align_items": null,
      "align_self": null,
      "border": null,
      "bottom": null,
      "display": null,
      "flex": null,
      "flex_flow": null,
      "grid_area": null,
      "grid_auto_columns": null,
      "grid_auto_flow": null,
      "grid_auto_rows": null,
      "grid_column": null,
      "grid_gap": null,
      "grid_row": null,
      "grid_template_areas": null,
      "grid_template_columns": null,
      "grid_template_rows": null,
      "height": null,
      "justify_content": null,
      "justify_items": null,
      "left": null,
      "margin": null,
      "max_height": null,
      "max_width": null,
      "min_height": null,
      "min_width": null,
      "object_fit": null,
      "object_position": null,
      "order": null,
      "overflow": null,
      "overflow_x": null,
      "overflow_y": null,
      "padding": null,
      "right": null,
      "top": null,
      "visibility": null,
      "width": null
     }
    },
    "b73b2bd4f9944052b31354499879124d": {
     "model_module": "@jupyter-widgets/controls",
     "model_module_version": "1.5.0",
     "model_name": "HTMLModel",
     "state": {
      "_dom_classes": [],
      "_model_module": "@jupyter-widgets/controls",
      "_model_module_version": "1.5.0",
      "_model_name": "HTMLModel",
      "_view_count": null,
      "_view_module": "@jupyter-widgets/controls",
      "_view_module_version": "1.5.0",
      "_view_name": "HTMLView",
      "description": "",
      "description_tooltip": null,
      "layout": "IPY_MODEL_23f2e517ceac402f94bd0fa9cbd80dae",
      "placeholder": "​",
      "style": "IPY_MODEL_3c005c2b52134e1eb1f721215a34819a",
      "value": " 1/1 [00:00&lt;00:00, 28.26it/s]"
     }
    },
    "c2459524a9aa418687c87edffe56287e": {
     "model_module": "@jupyter-widgets/controls",
     "model_module_version": "1.5.0",
     "model_name": "ProgressStyleModel",
     "state": {
      "_model_module": "@jupyter-widgets/controls",
      "_model_module_version": "1.5.0",
      "_model_name": "ProgressStyleModel",
      "_view_count": null,
      "_view_module": "@jupyter-widgets/base",
      "_view_module_version": "1.2.0",
      "_view_name": "StyleView",
      "bar_color": null,
      "description_width": ""
     }
    },
    "c3cd9b3b951848e49931990ad3fa4131": {
     "model_module": "@jupyter-widgets/base",
     "model_module_version": "1.2.0",
     "model_name": "LayoutModel",
     "state": {
      "_model_module": "@jupyter-widgets/base",
      "_model_module_version": "1.2.0",
      "_model_name": "LayoutModel",
      "_view_count": null,
      "_view_module": "@jupyter-widgets/base",
      "_view_module_version": "1.2.0",
      "_view_name": "LayoutView",
      "align_content": null,
      "align_items": null,
      "align_self": null,
      "border": null,
      "bottom": null,
      "display": null,
      "flex": null,
      "flex_flow": null,
      "grid_area": null,
      "grid_auto_columns": null,
      "grid_auto_flow": null,
      "grid_auto_rows": null,
      "grid_column": null,
      "grid_gap": null,
      "grid_row": null,
      "grid_template_areas": null,
      "grid_template_columns": null,
      "grid_template_rows": null,
      "height": null,
      "justify_content": null,
      "justify_items": null,
      "left": null,
      "margin": null,
      "max_height": null,
      "max_width": null,
      "min_height": null,
      "min_width": null,
      "object_fit": null,
      "object_position": null,
      "order": null,
      "overflow": null,
      "overflow_x": null,
      "overflow_y": null,
      "padding": null,
      "right": null,
      "top": null,
      "visibility": null,
      "width": null
     }
    },
    "d5883888c386445d8c5eb280bd225219": {
     "model_module": "@jupyter-widgets/controls",
     "model_module_version": "1.5.0",
     "model_name": "HTMLModel",
     "state": {
      "_dom_classes": [],
      "_model_module": "@jupyter-widgets/controls",
      "_model_module_version": "1.5.0",
      "_model_name": "HTMLModel",
      "_view_count": null,
      "_view_module": "@jupyter-widgets/controls",
      "_view_module_version": "1.5.0",
      "_view_name": "HTMLView",
      "description": "",
      "description_tooltip": null,
      "layout": "IPY_MODEL_e9411a3a0d6a411c8ec2c129068e55c0",
      "placeholder": "​",
      "style": "IPY_MODEL_6f2e15e4542f466ca0c90f2ed6b4c1ec",
      "value": "Render HTML: 100%"
     }
    },
    "e7fa0be3094a4c2684c562adae088804": {
     "model_module": "@jupyter-widgets/controls",
     "model_module_version": "1.5.0",
     "model_name": "HTMLModel",
     "state": {
      "_dom_classes": [],
      "_model_module": "@jupyter-widgets/controls",
      "_model_module_version": "1.5.0",
      "_model_name": "HTMLModel",
      "_view_count": null,
      "_view_module": "@jupyter-widgets/controls",
      "_view_module_version": "1.5.0",
      "_view_name": "HTMLView",
      "description": "",
      "description_tooltip": null,
      "layout": "IPY_MODEL_76072ff8299f4e1890c7c2b56a5e01bf",
      "placeholder": "​",
      "style": "IPY_MODEL_391c2d6d1f984dcd9329bfc57941d8f1",
      "value": " 1/1 [00:00&lt;00:00,  1.34it/s]"
     }
    },
    "e87b7503e8154d1984e04489254fb002": {
     "model_module": "@jupyter-widgets/controls",
     "model_module_version": "1.5.0",
     "model_name": "HBoxModel",
     "state": {
      "_dom_classes": [],
      "_model_module": "@jupyter-widgets/controls",
      "_model_module_version": "1.5.0",
      "_model_name": "HBoxModel",
      "_view_count": null,
      "_view_module": "@jupyter-widgets/controls",
      "_view_module_version": "1.5.0",
      "_view_name": "HBoxView",
      "box_style": "",
      "children": [
       "IPY_MODEL_0bd8815b82aa423094451c614e6e10c5",
       "IPY_MODEL_a04c9971fcad43639564016eaa245a19",
       "IPY_MODEL_a0c6eb2800b04240a234bc2f654d2648"
      ],
      "layout": "IPY_MODEL_ab4580c9110b4bcfacfa21c9583e933b"
     }
    },
    "e9411a3a0d6a411c8ec2c129068e55c0": {
     "model_module": "@jupyter-widgets/base",
     "model_module_version": "1.2.0",
     "model_name": "LayoutModel",
     "state": {
      "_model_module": "@jupyter-widgets/base",
      "_model_module_version": "1.2.0",
      "_model_name": "LayoutModel",
      "_view_count": null,
      "_view_module": "@jupyter-widgets/base",
      "_view_module_version": "1.2.0",
      "_view_name": "LayoutView",
      "align_content": null,
      "align_items": null,
      "align_self": null,
      "border": null,
      "bottom": null,
      "display": null,
      "flex": null,
      "flex_flow": null,
      "grid_area": null,
      "grid_auto_columns": null,
      "grid_auto_flow": null,
      "grid_auto_rows": null,
      "grid_column": null,
      "grid_gap": null,
      "grid_row": null,
      "grid_template_areas": null,
      "grid_template_columns": null,
      "grid_template_rows": null,
      "height": null,
      "justify_content": null,
      "justify_items": null,
      "left": null,
      "margin": null,
      "max_height": null,
      "max_width": null,
      "min_height": null,
      "min_width": null,
      "object_fit": null,
      "object_position": null,
      "order": null,
      "overflow": null,
      "overflow_x": null,
      "overflow_y": null,
      "padding": null,
      "right": null,
      "top": null,
      "visibility": null,
      "width": null
     }
    },
    "ea96f734fc264f77bb558effc446048e": {
     "model_module": "@jupyter-widgets/base",
     "model_module_version": "1.2.0",
     "model_name": "LayoutModel",
     "state": {
      "_model_module": "@jupyter-widgets/base",
      "_model_module_version": "1.2.0",
      "_model_name": "LayoutModel",
      "_view_count": null,
      "_view_module": "@jupyter-widgets/base",
      "_view_module_version": "1.2.0",
      "_view_name": "LayoutView",
      "align_content": null,
      "align_items": null,
      "align_self": null,
      "border": null,
      "bottom": null,
      "display": null,
      "flex": null,
      "flex_flow": null,
      "grid_area": null,
      "grid_auto_columns": null,
      "grid_auto_flow": null,
      "grid_auto_rows": null,
      "grid_column": null,
      "grid_gap": null,
      "grid_row": null,
      "grid_template_areas": null,
      "grid_template_columns": null,
      "grid_template_rows": null,
      "height": null,
      "justify_content": null,
      "justify_items": null,
      "left": null,
      "margin": null,
      "max_height": null,
      "max_width": null,
      "min_height": null,
      "min_width": null,
      "object_fit": null,
      "object_position": null,
      "order": null,
      "overflow": null,
      "overflow_x": null,
      "overflow_y": null,
      "padding": null,
      "right": null,
      "top": null,
      "visibility": null,
      "width": null
     }
    },
    "f138663be56f4bdf9082c066955653c7": {
     "model_module": "@jupyter-widgets/base",
     "model_module_version": "1.2.0",
     "model_name": "LayoutModel",
     "state": {
      "_model_module": "@jupyter-widgets/base",
      "_model_module_version": "1.2.0",
      "_model_name": "LayoutModel",
      "_view_count": null,
      "_view_module": "@jupyter-widgets/base",
      "_view_module_version": "1.2.0",
      "_view_name": "LayoutView",
      "align_content": null,
      "align_items": null,
      "align_self": null,
      "border": null,
      "bottom": null,
      "display": null,
      "flex": null,
      "flex_flow": null,
      "grid_area": null,
      "grid_auto_columns": null,
      "grid_auto_flow": null,
      "grid_auto_rows": null,
      "grid_column": null,
      "grid_gap": null,
      "grid_row": null,
      "grid_template_areas": null,
      "grid_template_columns": null,
      "grid_template_rows": null,
      "height": null,
      "justify_content": null,
      "justify_items": null,
      "left": null,
      "margin": null,
      "max_height": null,
      "max_width": null,
      "min_height": null,
      "min_width": null,
      "object_fit": null,
      "object_position": null,
      "order": null,
      "overflow": null,
      "overflow_x": null,
      "overflow_y": null,
      "padding": null,
      "right": null,
      "top": null,
      "visibility": null,
      "width": null
     }
    },
    "f615b8e6584542fd8accb6f1bc5adf1d": {
     "model_module": "@jupyter-widgets/controls",
     "model_module_version": "1.5.0",
     "model_name": "FloatProgressModel",
     "state": {
      "_dom_classes": [],
      "_model_module": "@jupyter-widgets/controls",
      "_model_module_version": "1.5.0",
      "_model_name": "FloatProgressModel",
      "_view_count": null,
      "_view_module": "@jupyter-widgets/controls",
      "_view_module_version": "1.5.0",
      "_view_name": "ProgressView",
      "bar_style": "success",
      "description": "",
      "description_tooltip": null,
      "layout": "IPY_MODEL_8e27c56cf06a4790ab98c1c788ac98a2",
      "max": 1,
      "min": 0,
      "orientation": "horizontal",
      "style": "IPY_MODEL_c2459524a9aa418687c87edffe56287e",
      "value": 1
     }
    },
    "fc2094676a974cfa91ec4f15cb4feeca": {
     "model_module": "@jupyter-widgets/controls",
     "model_module_version": "1.5.0",
     "model_name": "HTMLModel",
     "state": {
      "_dom_classes": [],
      "_model_module": "@jupyter-widgets/controls",
      "_model_module_version": "1.5.0",
      "_model_name": "HTMLModel",
      "_view_count": null,
      "_view_module": "@jupyter-widgets/controls",
      "_view_module_version": "1.5.0",
      "_view_name": "HTMLView",
      "description": "",
      "description_tooltip": null,
      "layout": "IPY_MODEL_2d8261a14d244773a60ae9e623fdaee0",
      "placeholder": "​",
      "style": "IPY_MODEL_2b826d2b822f4520bae56bf462fdab16",
      "value": " 24/24 [00:02&lt;00:00,  7.01it/s, Completed]"
     }
    },
    "fdcfbeb6dbcb4b7f9d413135cdaa623a": {
     "model_module": "@jupyter-widgets/base",
     "model_module_version": "1.2.0",
     "model_name": "LayoutModel",
     "state": {
      "_model_module": "@jupyter-widgets/base",
      "_model_module_version": "1.2.0",
      "_model_name": "LayoutModel",
      "_view_count": null,
      "_view_module": "@jupyter-widgets/base",
      "_view_module_version": "1.2.0",
      "_view_name": "LayoutView",
      "align_content": null,
      "align_items": null,
      "align_self": null,
      "border": null,
      "bottom": null,
      "display": null,
      "flex": null,
      "flex_flow": null,
      "grid_area": null,
      "grid_auto_columns": null,
      "grid_auto_flow": null,
      "grid_auto_rows": null,
      "grid_column": null,
      "grid_gap": null,
      "grid_row": null,
      "grid_template_areas": null,
      "grid_template_columns": null,
      "grid_template_rows": null,
      "height": null,
      "justify_content": null,
      "justify_items": null,
      "left": null,
      "margin": null,
      "max_height": null,
      "max_width": null,
      "min_height": null,
      "min_width": null,
      "object_fit": null,
      "object_position": null,
      "order": null,
      "overflow": null,
      "overflow_x": null,
      "overflow_y": null,
      "padding": null,
      "right": null,
      "top": null,
      "visibility": null,
      "width": null
     }
    }
   }
  }
 },
 "nbformat": 4,
 "nbformat_minor": 0
}
